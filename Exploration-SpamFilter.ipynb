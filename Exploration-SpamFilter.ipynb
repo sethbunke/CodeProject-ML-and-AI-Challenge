{
 "cells": [
  {
   "cell_type": "code",
   "execution_count": 157,
   "metadata": {
    "collapsed": false
   },
   "outputs": [],
   "source": [
    "from sklearn.feature_extraction.text import TfidfVectorizer\n",
    "from sklearn.feature_extraction.text import CountVectorizer\n",
    "import pandas as pd\n",
    "import csv\n",
    "import numpy as np\n",
    "import pandas as pd\n",
    "from sklearn.cross_validation import train_test_split"
   ]
  },
  {
   "cell_type": "code",
   "execution_count": 18,
   "metadata": {
    "collapsed": false
   },
   "outputs": [],
   "source": [
    "file_name = './SpamDetectionData.txt'\n",
    "rawdata = open(file_name, 'r')\n",
    "lines = rawdata.readlines()\n",
    "# myreader = csv.reader(rawdata.splitlines())\n",
    "# for row in myreader:\n",
    "#     print(row[0], row[1])"
   ]
  },
  {
   "cell_type": "code",
   "execution_count": 19,
   "metadata": {
    "collapsed": false
   },
   "outputs": [
    {
     "data": {
      "text/plain": [
       "2105"
      ]
     },
     "execution_count": 19,
     "metadata": {},
     "output_type": "execute_result"
    }
   ],
   "source": [
    "len(lines)"
   ]
  },
  {
   "cell_type": "code",
   "execution_count": 22,
   "metadata": {
    "collapsed": false
   },
   "outputs": [],
   "source": [
    "lines = lines[1:] #get rid of \"header\""
   ]
  },
  {
   "cell_type": "code",
   "execution_count": 25,
   "metadata": {
    "collapsed": false
   },
   "outputs": [
    {
     "data": {
      "text/plain": [
       "'Spam,<p>But could then once pomp to nor that glee glorious of deigned. The vexed times childe none native. To he vast now in to sore nor flow and most fabled. The few tis to loved vexed and all yet yea childe. Fulness consecrate of it before his a a a that.</p><p>Mirthful and and pangs wrong. Objects isle with partings ancient made was are. Childe and gild of all had to and ofttimes made soon from to long youth way condole sore.</p>\\n'"
      ]
     },
     "execution_count": 25,
     "metadata": {},
     "output_type": "execute_result"
    }
   ],
   "source": [
    "lines[0]"
   ]
  },
  {
   "cell_type": "code",
   "execution_count": 28,
   "metadata": {
    "collapsed": true
   },
   "outputs": [],
   "source": [
    "spam_indcator = 'Spam,<p>'"
   ]
  },
  {
   "cell_type": "code",
   "execution_count": 29,
   "metadata": {
    "collapsed": true
   },
   "outputs": [],
   "source": [
    "#for line in lines "
   ]
  },
  {
   "cell_type": "code",
   "execution_count": 36,
   "metadata": {
    "collapsed": false
   },
   "outputs": [
    {
     "data": {
      "text/plain": [
       "True"
      ]
     },
     "execution_count": 36,
     "metadata": {},
     "output_type": "execute_result"
    }
   ],
   "source": [
    "#[0 for x in lines if x.attribute == value\n",
    "\n",
    "spam_indcator in lines[0]"
   ]
  },
  {
   "cell_type": "code",
   "execution_count": 49,
   "metadata": {
    "collapsed": false
   },
   "outputs": [],
   "source": [
    "Y = np.array([1 if spam_indcator in line else 0 for line in lines])"
   ]
  },
  {
   "cell_type": "code",
   "execution_count": 50,
   "metadata": {
    "collapsed": false
   },
   "outputs": [
    {
     "name": "stdout",
     "output_type": "stream",
     "text": [
      "Spam Count: 1043 Ham Count: 1061\n"
     ]
    }
   ],
   "source": [
    "print('Spam Count: ' + str(len(Y[Y == 1])) + ' Ham Count: ' + str(len(Y[Y == 0])))"
   ]
  },
  {
   "cell_type": "code",
   "execution_count": null,
   "metadata": {
    "collapsed": false
   },
   "outputs": [],
   "source": []
  },
  {
   "cell_type": "code",
   "execution_count": 103,
   "metadata": {
    "collapsed": false
   },
   "outputs": [],
   "source": [
    "words_to_remove = ['Ham,<p>', 'Spam,<p>', '<p>', '</p>', '\\n']"
   ]
  },
  {
   "cell_type": "code",
   "execution_count": 104,
   "metadata": {
    "collapsed": false
   },
   "outputs": [
    {
     "data": {
      "text/plain": [
       "'Ham,<p>Above nevermore nothing no and chamber soul surely in my. I gloating of pallas truly sent bleak what came dreams the marvelled. Still mystery my my with nothing mystery into spoken dreaming and. Forgiveness raven lenore above cushions plutonian minute i that sure something. The streaming plume the yore into came that nothing have myself. Raven chamber pallas whether parting truly raven floor bosoms within floor maiden of scarce sculptured. But and i of quaint though the made but velvet these unto sent thy explore the. Flutter take then bird doubtless form is. Bird desolate nothing his rapping linking marvelled or the by. As many floor soul quaint hope ancient you and beating on nevermore.</p><p>Door bust all thy me desolate ease theeby my. Croaking i chamber here in my clasp sat as denser. Dreams dirges my before be. These radiant window that if. Smiling and over your with maiden visiter i hath there soon wind back no maiden to that. So rapping gileadtell fearing and of flutter. No what is angels tempest within i into and. Door that and than angels by and shorn and still more what at straight hath tapping chamber metell. Bird once streaming. Its the then nevermore angels my wandering if upon was madam i once echo my i his. From the from terrors lost burden open the a in that clasp stayed thy its surely my. Yet thee as as i whom back i the flown god and lenore.</p><p>Then over this. And as devil beguiling. Door still did only purple token weary velvet with nevermore at of nothing chamber quoth. Fearing his by sent perched name i of i by has desert so. Oer sat me nepenthe i soul. And bleak bird he rapping i and on above dreams word nevermore. Rustling my more said or still bird forgiveness i and flung. Farther but just while hauntedtell startled. The this bends. Nameless lenore of my above ebony a stock sad obeisance but angels. Sinking hear of sitting then stern on thee something. As the some is chamber engaged yet shore. Back evilprophet still i over nights till bird thing swung. Distant gileadtell smiling by or obeisance it before the what my still horror from heaven above implore quoth.</p>'"
      ]
     },
     "execution_count": 104,
     "metadata": {},
     "output_type": "execute_result"
    }
   ],
   "source": [
    "lines[-1]"
   ]
  },
  {
   "cell_type": "code",
   "execution_count": 105,
   "metadata": {
    "collapsed": true
   },
   "outputs": [],
   "source": [
    "test_line = lines[-2]"
   ]
  },
  {
   "cell_type": "code",
   "execution_count": 106,
   "metadata": {
    "collapsed": false
   },
   "outputs": [],
   "source": [
    "def remove_words(input_line, key_words=words_to_remove):\n",
    "    temp = input_line\n",
    "    for word in key_words:\n",
    "        temp = temp.replace(word, '')\n",
    "    return temp"
   ]
  },
  {
   "cell_type": "code",
   "execution_count": 107,
   "metadata": {
    "collapsed": false
   },
   "outputs": [
    {
     "data": {
      "text/plain": [
       "'Spam,<p>Aye girls had plain the deem to a. At monastic feeble monastic mirthful had plain carnal are love albions favour shrine which dwell by. Alone scene of made of nor and to are. Given girls a hope and know name memory and power would and. Nor other what most of night flaunting feere shamed his scene near is hope spent. Despair in my lemans worse not. Nor his what he and longdeserted had by maidens than the. Ere native it with amiss known smile with been to favour oer his awake.</p><p>Scene his where run passed not low lines the if him and the sight childe who in other condole. Lines come paphian sight their which longdeserted from and though to sorrow his childe loved alas. But done apart his was like true might and fathers coffined or strange near. Harold nor in parting he charms memory native deadly he. Than by to evil shamed haply nor soul revellers such and pile breast. What his far sight mote domestic of nine were. Flow did flee made they men by from for flash breast. By climes woe times <a href=\"https://www.and.com\">to</a> to to hellas from longdeserted delight haply pride though. Though to had <a href=\"https://www.sooth.com\">made</a> that vile nor he plain bacchanals say say old tear. Me sighed the in. One mote one scene in the formed shell or run. By sadness pomp departed he more feere them delphis say far and ive he.</p><p>Amiss his they dome that childe <a href=\"https://www.albions.com\">pile</a> delight vulgar his den whateer their neer in concubines call if. Glee been bidding but before festal within the his as heart had and were breast in would. In open wins he care land. In childe of to. Was to feel his wassailers longdeserted albions calm scorching through. It day long of. Soon in if before from. His saw will pile his than and flaunting it his was his lineage or had fabled thee way muse.</p>\\n'"
      ]
     },
     "execution_count": 107,
     "metadata": {},
     "output_type": "execute_result"
    }
   ],
   "source": [
    "test_line"
   ]
  },
  {
   "cell_type": "code",
   "execution_count": 108,
   "metadata": {
    "collapsed": false
   },
   "outputs": [],
   "source": [
    "testx = remove_words(test_line)"
   ]
  },
  {
   "cell_type": "code",
   "execution_count": 109,
   "metadata": {
    "collapsed": false
   },
   "outputs": [
    {
     "data": {
      "text/plain": [
       "'Aye girls had plain the deem to a. At monastic feeble monastic mirthful had plain carnal are love albions favour shrine which dwell by. Alone scene of made of nor and to are. Given girls a hope and know name memory and power would and. Nor other what most of night flaunting feere shamed his scene near is hope spent. Despair in my lemans worse not. Nor his what he and longdeserted had by maidens than the. Ere native it with amiss known smile with been to favour oer his awake.Scene his where run passed not low lines the if him and the sight childe who in other condole. Lines come paphian sight their which longdeserted from and though to sorrow his childe loved alas. But done apart his was like true might and fathers coffined or strange near. Harold nor in parting he charms memory native deadly he. Than by to evil shamed haply nor soul revellers such and pile breast. What his far sight mote domestic of nine were. Flow did flee made they men by from for flash breast. By climes woe times <a href=\"https://www.and.com\">to</a> to to hellas from longdeserted delight haply pride though. Though to had <a href=\"https://www.sooth.com\">made</a> that vile nor he plain bacchanals say say old tear. Me sighed the in. One mote one scene in the formed shell or run. By sadness pomp departed he more feere them delphis say far and ive he.Amiss his they dome that childe <a href=\"https://www.albions.com\">pile</a> delight vulgar his den whateer their neer in concubines call if. Glee been bidding but before festal within the his as heart had and were breast in would. In open wins he care land. In childe of to. Was to feel his wassailers longdeserted albions calm scorching through. It day long of. Soon in if before from. His saw will pile his than and flaunting it his was his lineage or had fabled thee way muse.'"
      ]
     },
     "execution_count": 109,
     "metadata": {},
     "output_type": "execute_result"
    }
   ],
   "source": [
    "testx"
   ]
  },
  {
   "cell_type": "code",
   "execution_count": 110,
   "metadata": {
    "collapsed": true
   },
   "outputs": [],
   "source": [
    "df = pd.DataFrame()"
   ]
  },
  {
   "cell_type": "code",
   "execution_count": 111,
   "metadata": {
    "collapsed": false
   },
   "outputs": [],
   "source": [
    "df['Y'] = Y\n",
    "df['Text'] = lines"
   ]
  },
  {
   "cell_type": "code",
   "execution_count": 112,
   "metadata": {
    "collapsed": false
   },
   "outputs": [
    {
     "data": {
      "text/plain": [
       "<bound method NDFrame.head of       Y                                               Text\n",
       "0     1  Spam,<p>But could then once pomp to nor that g...\n",
       "1     1  Spam,<p>His honeyed and land vile are so and n...\n",
       "2     1  Spam,<p>Tear womans his was by had tis her ere...\n",
       "3     1  Spam,<p>The that and land. Cell shun blazon pa...\n",
       "4     1  Spam,<p>Sing aught through partings things was...\n",
       "5     1  Spam,<p>He den blazon would did prose to he de...\n",
       "6     1  Spam,<p>In land monastic had sadness will. Fou...\n",
       "7     1  Spam,<p>Given to in now she. Were did moths mo...\n",
       "8     1  Spam,<p>One unto hight lands sea at childe to ...\n",
       "9     1  Spam,<p>What in ever men honeyed dote. Then th...\n",
       "10    1  Spam,<p>But will aye alas mirthful begun said ...\n",
       "11    1  Spam,<p>Day albions might thou prose or who wr...\n",
       "12    1  Spam,<p>Upon he and or the his tis caught. But...\n",
       "13    1  Spam,<p>Artless that or shell sighed drowsy no...\n",
       "14    1  Spam,<p>Pillared oh the grace name gild throug...\n",
       "15    1  Spam,<p>Ever cared earth wight if the he a. Fi...\n",
       "16    1  Spam,<p>Scape eremites he flatterers and been ...\n",
       "17    1  Spam,<p>Ere suffice not plain that maidens hou...\n",
       "18    1  Spam,<p>Revel his lines condole awake in lay d...\n",
       "19    1  Spam,<p>That ways day prose joyless superstiti...\n",
       "20    1  Spam,<p>Riot he are was the in lineage girls p...\n",
       "21    1  Spam,<p>So the love pangs partings thy fame al...\n",
       "22    1  Spam,<p>Him ah he more things long from mine f...\n",
       "23    1  Spam,<p>Sullen his scorching riot calm with su...\n",
       "24    1  Spam,<p>Domestic adieu time left heart each gi...\n",
       "25    1  Spam,<p>Him nor a ere day. And a pleasure or c...\n",
       "26    1  Spam,<p>A pollution sighed was. To departed no...\n",
       "27    1  Spam,<p>Chill tear drop of formed childe disap...\n",
       "28    1  Spam,<p>Sore in thou one friends satiety he sa...\n",
       "29    1  Spam,<p>Dear aught chill love can the loathed....\n",
       "...  ..                                                ...\n",
       "2074  0  Ham,<p>Then more ah betook heart word i the. S...\n",
       "2075  1  Spam,<p>Fabled strength the rill aisle. Flatte...\n",
       "2076  0  Ham,<p>Nevermore just a of whose still mystery...\n",
       "2077  0  Ham,<p>Napping chamber upon this saintly above...\n",
       "2078  1  Spam,<p>Or to and. Goodly lowly youth his did ...\n",
       "2079  0  Ham,<p>As darkness my desolate whom myself god...\n",
       "2080  1  Spam,<p>Concubines nor harold and shameless de...\n",
       "2081  1  Spam,<p>Me name relief had name ungodly his he...\n",
       "2082  0  Ham,<p>As door hopes. And lady this and dream ...\n",
       "2083  0  Ham,<p>At heart it laden chamber me more only ...\n",
       "2084  1  Spam,<p>A favour what whilome within childe of...\n",
       "2085  1  Spam,<p>From brow care of soils. Eros he for b...\n",
       "2086  1  Spam,<p>Dote to he from uses artless ever they...\n",
       "2087  0  Ham,<p>Wrought smiling door implore still terr...\n",
       "2088  0  Ham,<p>Pondered of evilprophet. And the above ...\n",
       "2089  0  Ham,<p>Of some heart stillness radiant now had...\n",
       "2090  0  Ham,<p>Thy sainted still with nameless is we t...\n",
       "2091  0  Ham,<p>Lenore sat by wondering marvelled thy o...\n",
       "2092  0  Ham,<p>Gloated flutter said a more not flung v...\n",
       "2093  0  Ham,<p>Stillness tapping thinking the with tin...\n",
       "2094  1  Spam,<p>Of shades are of so objects so to from...\n",
       "2095  0  Ham,<p>Spoken wore shall long a that beast you...\n",
       "2096  0  Ham,<p>Before of divining. Raven fancy till to...\n",
       "2097  0  Ham,<p>Lining as my did nepenthe much lenore b...\n",
       "2098  1  Spam,<p>A charms his of childe him. Lowly one ...\n",
       "2099  0  Ham,<p>Distant pondered me sought so there per...\n",
       "2100  1  Spam,<p>Relief flee not and. Oh will shamed mi...\n",
       "2101  0  Ham,<p>Gloated just the shrieked lost morrow i...\n",
       "2102  1  Spam,<p>Aye girls had plain the deem to a. At ...\n",
       "2103  0  Ham,<p>Above nevermore nothing no and chamber ...\n",
       "\n",
       "[2104 rows x 2 columns]>"
      ]
     },
     "execution_count": 112,
     "metadata": {},
     "output_type": "execute_result"
    }
   ],
   "source": [
    "df.head"
   ]
  },
  {
   "cell_type": "code",
   "execution_count": 97,
   "metadata": {
    "collapsed": true
   },
   "outputs": [],
   "source": [
    "#vectorize\n",
    "#tf-idf\n",
    "#shuffle\n",
    "#split\n",
    "#train\n",
    "#test\n",
    "#accuracy"
   ]
  },
  {
   "cell_type": "code",
   "execution_count": null,
   "metadata": {
    "collapsed": true
   },
   "outputs": [],
   "source": []
  },
  {
   "cell_type": "code",
   "execution_count": 98,
   "metadata": {
    "collapsed": true
   },
   "outputs": [],
   "source": [
    "from sklearn.feature_extraction.text import CountVectorizer"
   ]
  },
  {
   "cell_type": "code",
   "execution_count": 99,
   "metadata": {
    "collapsed": true
   },
   "outputs": [],
   "source": [
    "X = df['Text']\n",
    "y = df['Y']"
   ]
  },
  {
   "cell_type": "code",
   "execution_count": 101,
   "metadata": {
    "collapsed": false
   },
   "outputs": [
    {
     "name": "stdout",
     "output_type": "stream",
     "text": [
      "(2104, 787)\n"
     ]
    }
   ],
   "source": [
    "vect = CountVectorizer()\n",
    "_ = vect.fit_transform(X)\n",
    "print(_.shape)"
   ]
  },
  {
   "cell_type": "code",
   "execution_count": 116,
   "metadata": {
    "collapsed": false
   },
   "outputs": [],
   "source": [
    "test_apply = df['Text'].apply(remove_words)"
   ]
  },
  {
   "cell_type": "code",
   "execution_count": 117,
   "metadata": {
    "collapsed": false
   },
   "outputs": [
    {
     "data": {
      "text/plain": [
       "<bound method NDFrame.head of 0       But could then once pomp to nor that glee glor...\n",
       "1       His honeyed and land vile are so and native fr...\n",
       "2       Tear womans his was by had tis her eremites th...\n",
       "3       The that and land. Cell shun blazon passion un...\n",
       "4       Sing aught through partings things was sacred ...\n",
       "5       He den blazon would did prose to he deigned wa...\n",
       "6       In land monastic had sadness will. Found not m...\n",
       "7       Given to in now she. Were did moths mood days ...\n",
       "8       One unto hight lands sea at childe to this eve...\n",
       "9       What in ever men honeyed dote. Then the aye wh...\n",
       "10      But will aye alas mirthful begun said he suffi...\n",
       "11      Day albions might thou prose or who wrong and ...\n",
       "12      Upon he and or the his tis caught. But scorchi...\n",
       "13      Artless that or shell sighed drowsy nor dear b...\n",
       "14      Pillared oh the grace name gild through sore s...\n",
       "15      Ever cared earth wight if the he a. Finds madd...\n",
       "16      Scape eremites he flatterers and been and begu...\n",
       "17      Ere suffice not plain that maidens hour fulnes...\n",
       "18      Revel his lines condole awake in lay dwell at ...\n",
       "19      That ways day prose joyless superstition flow ...\n",
       "20      Riot he are was the in lineage girls passed in...\n",
       "21      So the love pangs partings thy fame almost ee ...\n",
       "22      Him ah he more things long from mine for. Unto...\n",
       "23      Sullen his scorching riot calm with superstiti...\n",
       "24      Domestic adieu time left heart each girls noon...\n",
       "25      Him nor a ere day. And a pleasure or charms ob...\n",
       "26      A pollution sighed was. To departed not upon h...\n",
       "27      Chill tear drop of formed childe disappointed ...\n",
       "28      Sore in thou one friends satiety he save not t...\n",
       "29      Dear aught chill love can the loathed. Before ...\n",
       "                              ...                        \n",
       "2074    Then more ah betook heart word i the. Shutter ...\n",
       "2075    Fabled strength the rill aisle. Flatterers to ...\n",
       "2076    Nevermore just a of whose still mystery of hat...\n",
       "2077    Napping chamber upon this saintly above i whos...\n",
       "2078    Or to and. Goodly lowly youth his did seraphs ...\n",
       "2079    As darkness my desolate whom myself god sat he...\n",
       "2080    Concubines nor harold and shameless degree his...\n",
       "2081    Me name relief had name ungodly his he him car...\n",
       "2082    As door hopes. And lady this and dream the onl...\n",
       "2083    At heart it laden chamber me more only is floo...\n",
       "2084    A favour what whilome within childe of childe ...\n",
       "2085    From brow care of soils. Eros he for by hour g...\n",
       "2086    Dote to he from uses artless ever they though ...\n",
       "2087    Wrought smiling door implore still terrors he ...\n",
       "2088    Pondered of evilprophet. And the above door of...\n",
       "2089    Of some heart stillness radiant now had chambe...\n",
       "2090    Thy sainted still with nameless is we the temp...\n",
       "2091    Lenore sat by wondering marvelled thy of. This...\n",
       "2092    Gloated flutter said a more not flung velvet g...\n",
       "2093    Stillness tapping thinking the with tinkled va...\n",
       "2094    Of shades are of so objects so to from lurked ...\n",
       "2095    Spoken wore shall long a that beast youhere hi...\n",
       "2096    Before of divining. Raven fancy till token mor...\n",
       "2097    Lining as my did nepenthe much lenore by forge...\n",
       "2098    A charms his of childe him. Lowly one was befo...\n",
       "2099    Distant pondered me sought so there perched me...\n",
       "2100    Relief flee not and. Oh will shamed mine by wh...\n",
       "2101    Gloated just the shrieked lost morrow in my bo...\n",
       "2102    Aye girls had plain the deem to a. At monastic...\n",
       "2103    Above nevermore nothing no and chamber soul su...\n",
       "Name: Text, Length: 2104, dtype: object>"
      ]
     },
     "execution_count": 117,
     "metadata": {},
     "output_type": "execute_result"
    }
   ],
   "source": [
    "test_apply.head"
   ]
  },
  {
   "cell_type": "code",
   "execution_count": 118,
   "metadata": {
    "collapsed": true
   },
   "outputs": [],
   "source": [
    "df['Text'] = test_apply"
   ]
  },
  {
   "cell_type": "code",
   "execution_count": 119,
   "metadata": {
    "collapsed": false
   },
   "outputs": [
    {
     "data": {
      "text/plain": [
       "<bound method NDFrame.head of       Y                                               Text\n",
       "0     1  But could then once pomp to nor that glee glor...\n",
       "1     1  His honeyed and land vile are so and native fr...\n",
       "2     1  Tear womans his was by had tis her eremites th...\n",
       "3     1  The that and land. Cell shun blazon passion un...\n",
       "4     1  Sing aught through partings things was sacred ...\n",
       "5     1  He den blazon would did prose to he deigned wa...\n",
       "6     1  In land monastic had sadness will. Found not m...\n",
       "7     1  Given to in now she. Were did moths mood days ...\n",
       "8     1  One unto hight lands sea at childe to this eve...\n",
       "9     1  What in ever men honeyed dote. Then the aye wh...\n",
       "10    1  But will aye alas mirthful begun said he suffi...\n",
       "11    1  Day albions might thou prose or who wrong and ...\n",
       "12    1  Upon he and or the his tis caught. But scorchi...\n",
       "13    1  Artless that or shell sighed drowsy nor dear b...\n",
       "14    1  Pillared oh the grace name gild through sore s...\n",
       "15    1  Ever cared earth wight if the he a. Finds madd...\n",
       "16    1  Scape eremites he flatterers and been and begu...\n",
       "17    1  Ere suffice not plain that maidens hour fulnes...\n",
       "18    1  Revel his lines condole awake in lay dwell at ...\n",
       "19    1  That ways day prose joyless superstition flow ...\n",
       "20    1  Riot he are was the in lineage girls passed in...\n",
       "21    1  So the love pangs partings thy fame almost ee ...\n",
       "22    1  Him ah he more things long from mine for. Unto...\n",
       "23    1  Sullen his scorching riot calm with superstiti...\n",
       "24    1  Domestic adieu time left heart each girls noon...\n",
       "25    1  Him nor a ere day. And a pleasure or charms ob...\n",
       "26    1  A pollution sighed was. To departed not upon h...\n",
       "27    1  Chill tear drop of formed childe disappointed ...\n",
       "28    1  Sore in thou one friends satiety he save not t...\n",
       "29    1  Dear aught chill love can the loathed. Before ...\n",
       "...  ..                                                ...\n",
       "2074  0  Then more ah betook heart word i the. Shutter ...\n",
       "2075  1  Fabled strength the rill aisle. Flatterers to ...\n",
       "2076  0  Nevermore just a of whose still mystery of hat...\n",
       "2077  0  Napping chamber upon this saintly above i whos...\n",
       "2078  1  Or to and. Goodly lowly youth his did seraphs ...\n",
       "2079  0  As darkness my desolate whom myself god sat he...\n",
       "2080  1  Concubines nor harold and shameless degree his...\n",
       "2081  1  Me name relief had name ungodly his he him car...\n",
       "2082  0  As door hopes. And lady this and dream the onl...\n",
       "2083  0  At heart it laden chamber me more only is floo...\n",
       "2084  1  A favour what whilome within childe of childe ...\n",
       "2085  1  From brow care of soils. Eros he for by hour g...\n",
       "2086  1  Dote to he from uses artless ever they though ...\n",
       "2087  0  Wrought smiling door implore still terrors he ...\n",
       "2088  0  Pondered of evilprophet. And the above door of...\n",
       "2089  0  Of some heart stillness radiant now had chambe...\n",
       "2090  0  Thy sainted still with nameless is we the temp...\n",
       "2091  0  Lenore sat by wondering marvelled thy of. This...\n",
       "2092  0  Gloated flutter said a more not flung velvet g...\n",
       "2093  0  Stillness tapping thinking the with tinkled va...\n",
       "2094  1  Of shades are of so objects so to from lurked ...\n",
       "2095  0  Spoken wore shall long a that beast youhere hi...\n",
       "2096  0  Before of divining. Raven fancy till token mor...\n",
       "2097  0  Lining as my did nepenthe much lenore by forge...\n",
       "2098  1  A charms his of childe him. Lowly one was befo...\n",
       "2099  0  Distant pondered me sought so there perched me...\n",
       "2100  1  Relief flee not and. Oh will shamed mine by wh...\n",
       "2101  0  Gloated just the shrieked lost morrow in my bo...\n",
       "2102  1  Aye girls had plain the deem to a. At monastic...\n",
       "2103  0  Above nevermore nothing no and chamber soul su...\n",
       "\n",
       "[2104 rows x 2 columns]>"
      ]
     },
     "execution_count": 119,
     "metadata": {},
     "output_type": "execute_result"
    }
   ],
   "source": [
    "df.head"
   ]
  },
  {
   "cell_type": "code",
   "execution_count": 121,
   "metadata": {
    "collapsed": false
   },
   "outputs": [
    {
     "name": "stdout",
     "output_type": "stream",
     "text": [
      "(2104, 787) 0.10165184244\n"
     ]
    }
   ],
   "source": [
    "vect = CountVectorizer()\n",
    "_ = vect.fit_transform(X)\n",
    "print (_.shape, _[0,:].mean())"
   ]
  },
  {
   "cell_type": "code",
   "execution_count": 122,
   "metadata": {
    "collapsed": false
   },
   "outputs": [
    {
     "name": "stdout",
     "output_type": "stream",
     "text": [
      "(2104, 787) 0.00888735628594\n"
     ]
    }
   ],
   "source": [
    "vect = TfidfVectorizer()\n",
    "_ = vect.fit_transform(X)\n",
    "print(_.shape, _[0,:].mean())"
   ]
  },
  {
   "cell_type": "code",
   "execution_count": 123,
   "metadata": {
    "collapsed": true
   },
   "outputs": [],
   "source": [
    "from sklearn.naive_bayes import MultinomialNB"
   ]
  },
  {
   "cell_type": "code",
   "execution_count": 124,
   "metadata": {
    "collapsed": false
   },
   "outputs": [
    {
     "data": {
      "text/plain": [
       "0    0.504278\n",
       "1    0.495722\n",
       "Name: Y, dtype: float64"
      ]
     },
     "execution_count": 124,
     "metadata": {},
     "output_type": "execute_result"
    }
   ],
   "source": [
    " y.value_counts(normalize=True)"
   ]
  },
  {
   "cell_type": "code",
   "execution_count": 133,
   "metadata": {
    "collapsed": false
   },
   "outputs": [],
   "source": [
    "from sklearn.pipeline import FeatureUnion\n",
    "from sklearn.pipeline import Pipeline\n",
    "from sklearn.grid_search import GridSearchCV"
   ]
  },
  {
   "cell_type": "code",
   "execution_count": 134,
   "metadata": {
    "collapsed": false
   },
   "outputs": [
    {
     "name": "stdout",
     "output_type": "stream",
     "text": [
      "1.0 {'vect__max_features': 1000, 'vect__stop_words': None, 'vect__ngram_range': (1, 1)}\n"
     ]
    }
   ],
   "source": [
    "# set our pipeline parameters\n",
    "pipe_params = {'vect__ngram_range':[(1, 1), (1, 2)], 'vect__max_features':[1000, 10000], 'vect__stop_words':[None, 'english']}\n",
    " \n",
    "# instantiate our pipeline\n",
    "pipe = Pipeline([('vect', CountVectorizer()), ('classify', MultinomialNB())])\n",
    " \n",
    "# instantiate our gridsearch object\n",
    "grid = GridSearchCV(pipe, pipe_params)\n",
    "# fit the gridsearch object\n",
    "grid.fit(X, y)\n",
    " \n",
    "# get our results\n",
    "print(grid.best_score_, grid.best_params_)"
   ]
  },
  {
   "cell_type": "code",
   "execution_count": 135,
   "metadata": {
    "collapsed": true
   },
   "outputs": [],
   "source": [
    "from sklearn.pipeline import FeatureUnion\n",
    "# build a separate featurizer object\n",
    "featurizer = FeatureUnion([('tfidf_vect', TfidfVectorizer()), ('count_vect', CountVectorizer())])"
   ]
  },
  {
   "cell_type": "code",
   "execution_count": 136,
   "metadata": {
    "collapsed": false
   },
   "outputs": [
    {
     "name": "stdout",
     "output_type": "stream",
     "text": [
      "(2104, 1574)\n"
     ]
    }
   ],
   "source": [
    "_ = featurizer.fit_transform(X)\n",
    "print(_.shape)"
   ]
  },
  {
   "cell_type": "code",
   "execution_count": 137,
   "metadata": {
    "collapsed": false
   },
   "outputs": [
    {
     "name": "stdout",
     "output_type": "stream",
     "text": [
      "(2104, 400)\n"
     ]
    }
   ],
   "source": [
    "featurizer.set_params(tfidf_vect__max_features=100, count_vect__ngram_range=(1, 2),\n",
    "count_vect__max_features=300)\n",
    "# the TfidfVectorizer will only keep 100 words while the CountVectorizer will keep 300 of 1 and 2 word phrases \n",
    "_ = featurizer.fit_transform(X)\n",
    "print(_.shape)"
   ]
  },
  {
   "cell_type": "code",
   "execution_count": 140,
   "metadata": {
    "collapsed": true
   },
   "outputs": [],
   "source": [
    "x_test = df['Text'].apply(remove_words)"
   ]
  },
  {
   "cell_type": "code",
   "execution_count": 142,
   "metadata": {
    "collapsed": false
   },
   "outputs": [
    {
     "name": "stdout",
     "output_type": "stream",
     "text": [
      "1.0 {'featurizer__count_vect__ngram_range': (1, 1), 'featurizer__count_vect__stop_words': None, 'featurizer__count_vect__max_features': 1000, 'featurizer__tfidf_vect__ngram_range': (1, 1), 'featurizer__tfidf_vect__stop_words': None, 'featurizer__tfidf_vect__max_features': 1000}\n"
     ]
    }
   ],
   "source": [
    "pipe_params = {'featurizer__count_vect__ngram_range':[(1, 1), (1, 2)], 'featurizer__count_vect__max_features':[1000, 10000], 'featurizer__count_vect__stop_words':[None, 'english'],\n",
    "'featurizer__tfidf_vect__ngram_range':[(1, 1), (1, 2)], 'featurizer__tfidf_vect__max_features':[1000, 10000], 'featurizer__tfidf_vect__stop_words':[None, 'english']}\n",
    "pipe = Pipeline([('featurizer', featurizer), ('classify', MultinomialNB())])\n",
    "grid = GridSearchCV(pipe, pipe_params)\n",
    "grid.fit(x_test, y)\n",
    "print(grid.best_score_, grid.best_params_)"
   ]
  },
  {
   "cell_type": "code",
   "execution_count": 143,
   "metadata": {
    "collapsed": false
   },
   "outputs": [
    {
     "data": {
      "text/plain": [
       "'But could then once pomp to nor that glee glorious of deigned. The vexed times childe none native. To he vast now in to sore nor flow and most fabled. The few tis to loved vexed and all yet yea childe. Fulness consecrate of it before his a a a that.Mirthful and and pangs wrong. Objects isle with partings ancient made was are. Childe and gild of all had to and ofttimes made soon from to long youth way condole sore.'"
      ]
     },
     "execution_count": 143,
     "metadata": {},
     "output_type": "execute_result"
    }
   ],
   "source": [
    "x_test[0]"
   ]
  },
  {
   "cell_type": "code",
   "execution_count": 155,
   "metadata": {
    "collapsed": false
   },
   "outputs": [
    {
     "data": {
      "text/plain": [
       "'Spam,<p>But could then once pomp to nor that glee glorious of deigned. The vexed times childe none native. To he vast now in to sore nor flow and most fabled. The few tis to loved vexed and all yet yea childe. Fulness consecrate of it before his a a a that.</p><p>Mirthful and and pangs wrong. Objects isle with partings ancient made was are. Childe and gild of all had to and ofttimes made soon from to long youth way condole sore.</p>\\n'"
      ]
     },
     "execution_count": 155,
     "metadata": {},
     "output_type": "execute_result"
    }
   ],
   "source": [
    "X[0]"
   ]
  },
  {
   "cell_type": "code",
   "execution_count": 144,
   "metadata": {
    "collapsed": true
   },
   "outputs": [],
   "source": [
    "from pandas import read_csv\n",
    "from sklearn.cross_validation import KFold\n",
    "from sklearn.cross_validation import cross_val_score\n",
    "from sklearn.preprocessing import StandardScaler\n",
    "from sklearn.pipeline import Pipeline\n",
    "from sklearn.discriminant_analysis import LinearDiscriminantAnalysis\n",
    "# load data\n"
   ]
  },
  {
   "cell_type": "code",
   "execution_count": 161,
   "metadata": {
    "collapsed": false
   },
   "outputs": [
    {
     "name": "stdout",
     "output_type": "stream",
     "text": [
      "0.999047619048\n"
     ]
    }
   ],
   "source": [
    "# url = \"https://goo.gl/vhm1eU\"\n",
    "# names=[preg, plas, pres, skin, test, mass, pedi, age, class] dataframe = read_csv(url, names=names)\n",
    "# array = dataframe.values\n",
    "# X = array[:,0:8]\n",
    "# Y = array[:,8]\n",
    "# create pipeline\n",
    "estimators = []\n",
    "estimators.append(( 'featurizer' , featurizer))\n",
    "estimators.append(( 'mnb' , MultinomialNB()))\n",
    "model = Pipeline(estimators)\n",
    "# evaluate pipeline\n",
    "num_folds = 10\n",
    "num_instances = len(X)\n",
    "seed = 7\n",
    "kfold = KFold(n=num_instances, n_folds=num_folds, random_state=seed)\n",
    "results = cross_val_score(model, x_test, y, cv=kfold)\n",
    "print(results.mean())"
   ]
  },
  {
   "cell_type": "code",
   "execution_count": 163,
   "metadata": {
    "collapsed": false
   },
   "outputs": [],
   "source": [
    "test_size = 0.33\n",
    "seed = 7\n",
    "\n",
    "X_train, X_test, Y_train, Y_test = train_test_split(X, y, test_size=test_size, random_state=seed)"
   ]
  },
  {
   "cell_type": "code",
   "execution_count": 164,
   "metadata": {
    "collapsed": false
   },
   "outputs": [
    {
     "ename": "ValueError",
     "evalue": "could not convert string to float: 'Spam,<p>Did run adversity not satiety. Hope not rhyme none times labyrinth pollution but formed low so not other dear. Through a delight. In and nor shrine her known wins adieu chill than to blast of for his climes deemed. That to of as. Be light charms agen his long there. Or of that had charms for where far dear pillared. Delight his he where found her heart made strange other.</p><p>Dares made friends vast low to honeyed weary. Suffice parting not lay flee fame dear dear been olden before mirth then. Dwell these in consecrate hight steel his for his plain and of of. To were and these ofttimes but despair will his feels where day. One for by that he. Bower from to of ofttimes still tis and of counsel yet name not nor.</p>\\n'",
     "output_type": "error",
     "traceback": [
      "\u001b[0;31m---------------------------------------------------------------------------\u001b[0m",
      "\u001b[0;31mValueError\u001b[0m                                Traceback (most recent call last)",
      "\u001b[0;32m<ipython-input-164-a552f7785dc0>\u001b[0m in \u001b[0;36m<module>\u001b[0;34m()\u001b[0m\n\u001b[1;32m      1\u001b[0m \u001b[0mmodel\u001b[0m \u001b[0;34m=\u001b[0m \u001b[0mMultinomialNB\u001b[0m\u001b[0;34m(\u001b[0m\u001b[0;34m)\u001b[0m\u001b[0;34m\u001b[0m\u001b[0m\n\u001b[0;32m----> 2\u001b[0;31m \u001b[0mmodel\u001b[0m\u001b[0;34m.\u001b[0m\u001b[0mfit\u001b[0m\u001b[0;34m(\u001b[0m\u001b[0mX_train\u001b[0m\u001b[0;34m,\u001b[0m \u001b[0mY_train\u001b[0m\u001b[0;34m)\u001b[0m\u001b[0;34m\u001b[0m\u001b[0m\n\u001b[0m\u001b[1;32m      3\u001b[0m \u001b[0mresult\u001b[0m \u001b[0;34m=\u001b[0m \u001b[0mmodel\u001b[0m\u001b[0;34m.\u001b[0m\u001b[0mscore\u001b[0m\u001b[0;34m(\u001b[0m\u001b[0mX_test\u001b[0m\u001b[0;34m,\u001b[0m \u001b[0mY_test\u001b[0m\u001b[0;34m)\u001b[0m\u001b[0;34m\u001b[0m\u001b[0m\n\u001b[1;32m      4\u001b[0m \u001b[0mprint\u001b[0m\u001b[0;34m(\u001b[0m\u001b[0;34m\"Accuracy: %.3f%%\"\u001b[0m\u001b[0;34m)\u001b[0m \u001b[0;34m%\u001b[0m \u001b[0;34m(\u001b[0m\u001b[0mresult\u001b[0m\u001b[0;34m*\u001b[0m\u001b[0;36m100.0\u001b[0m\u001b[0;34m)\u001b[0m\u001b[0;34m\u001b[0m\u001b[0m\n",
      "\u001b[0;32m~/anaconda/envs/Python3/lib/python3.5/site-packages/sklearn/naive_bayes.py\u001b[0m in \u001b[0;36mfit\u001b[0;34m(self, X, y, sample_weight)\u001b[0m\n\u001b[1;32m    560\u001b[0m             \u001b[0mReturns\u001b[0m \u001b[0mself\u001b[0m\u001b[0;34m.\u001b[0m\u001b[0;34m\u001b[0m\u001b[0m\n\u001b[1;32m    561\u001b[0m         \"\"\"\n\u001b[0;32m--> 562\u001b[0;31m         \u001b[0mX\u001b[0m\u001b[0;34m,\u001b[0m \u001b[0my\u001b[0m \u001b[0;34m=\u001b[0m \u001b[0mcheck_X_y\u001b[0m\u001b[0;34m(\u001b[0m\u001b[0mX\u001b[0m\u001b[0;34m,\u001b[0m \u001b[0my\u001b[0m\u001b[0;34m,\u001b[0m \u001b[0;34m'csr'\u001b[0m\u001b[0;34m)\u001b[0m\u001b[0;34m\u001b[0m\u001b[0m\n\u001b[0m\u001b[1;32m    563\u001b[0m         \u001b[0m_\u001b[0m\u001b[0;34m,\u001b[0m \u001b[0mn_features\u001b[0m \u001b[0;34m=\u001b[0m \u001b[0mX\u001b[0m\u001b[0;34m.\u001b[0m\u001b[0mshape\u001b[0m\u001b[0;34m\u001b[0m\u001b[0m\n\u001b[1;32m    564\u001b[0m \u001b[0;34m\u001b[0m\u001b[0m\n",
      "\u001b[0;32m~/anaconda/envs/Python3/lib/python3.5/site-packages/sklearn/utils/validation.py\u001b[0m in \u001b[0;36mcheck_X_y\u001b[0;34m(X, y, accept_sparse, dtype, order, copy, force_all_finite, ensure_2d, allow_nd, multi_output, ensure_min_samples, ensure_min_features, y_numeric, warn_on_dtype, estimator)\u001b[0m\n\u001b[1;32m    519\u001b[0m     X = check_array(X, accept_sparse, dtype, order, copy, force_all_finite,\n\u001b[1;32m    520\u001b[0m                     \u001b[0mensure_2d\u001b[0m\u001b[0;34m,\u001b[0m \u001b[0mallow_nd\u001b[0m\u001b[0;34m,\u001b[0m \u001b[0mensure_min_samples\u001b[0m\u001b[0;34m,\u001b[0m\u001b[0;34m\u001b[0m\u001b[0m\n\u001b[0;32m--> 521\u001b[0;31m                     ensure_min_features, warn_on_dtype, estimator)\n\u001b[0m\u001b[1;32m    522\u001b[0m     \u001b[0;32mif\u001b[0m \u001b[0mmulti_output\u001b[0m\u001b[0;34m:\u001b[0m\u001b[0;34m\u001b[0m\u001b[0m\n\u001b[1;32m    523\u001b[0m         y = check_array(y, 'csr', force_all_finite=True, ensure_2d=False,\n",
      "\u001b[0;32m~/anaconda/envs/Python3/lib/python3.5/site-packages/sklearn/utils/validation.py\u001b[0m in \u001b[0;36mcheck_array\u001b[0;34m(array, accept_sparse, dtype, order, copy, force_all_finite, ensure_2d, allow_nd, ensure_min_samples, ensure_min_features, warn_on_dtype, estimator)\u001b[0m\n\u001b[1;32m    380\u001b[0m                                       force_all_finite)\n\u001b[1;32m    381\u001b[0m     \u001b[0;32melse\u001b[0m\u001b[0;34m:\u001b[0m\u001b[0;34m\u001b[0m\u001b[0m\n\u001b[0;32m--> 382\u001b[0;31m         \u001b[0marray\u001b[0m \u001b[0;34m=\u001b[0m \u001b[0mnp\u001b[0m\u001b[0;34m.\u001b[0m\u001b[0marray\u001b[0m\u001b[0;34m(\u001b[0m\u001b[0marray\u001b[0m\u001b[0;34m,\u001b[0m \u001b[0mdtype\u001b[0m\u001b[0;34m=\u001b[0m\u001b[0mdtype\u001b[0m\u001b[0;34m,\u001b[0m \u001b[0morder\u001b[0m\u001b[0;34m=\u001b[0m\u001b[0morder\u001b[0m\u001b[0;34m,\u001b[0m \u001b[0mcopy\u001b[0m\u001b[0;34m=\u001b[0m\u001b[0mcopy\u001b[0m\u001b[0;34m)\u001b[0m\u001b[0;34m\u001b[0m\u001b[0m\n\u001b[0m\u001b[1;32m    383\u001b[0m \u001b[0;34m\u001b[0m\u001b[0m\n\u001b[1;32m    384\u001b[0m         \u001b[0;32mif\u001b[0m \u001b[0mensure_2d\u001b[0m\u001b[0;34m:\u001b[0m\u001b[0;34m\u001b[0m\u001b[0m\n",
      "\u001b[0;31mValueError\u001b[0m: could not convert string to float: 'Spam,<p>Did run adversity not satiety. Hope not rhyme none times labyrinth pollution but formed low so not other dear. Through a delight. In and nor shrine her known wins adieu chill than to blast of for his climes deemed. That to of as. Be light charms agen his long there. Or of that had charms for where far dear pillared. Delight his he where found her heart made strange other.</p><p>Dares made friends vast low to honeyed weary. Suffice parting not lay flee fame dear dear been olden before mirth then. Dwell these in consecrate hight steel his for his plain and of of. To were and these ofttimes but despair will his feels where day. One for by that he. Bower from to of ofttimes still tis and of counsel yet name not nor.</p>\\n'"
     ]
    }
   ],
   "source": [
    "model = MultinomialNB()\n",
    "model.fit(X_train, Y_train)\n",
    "result = model.score(X_test, Y_test)\n",
    "print(\"Accuracy: %.3f%%\") % (result*100.0)"
   ]
  },
  {
   "cell_type": "code",
   "execution_count": null,
   "metadata": {
    "collapsed": true
   },
   "outputs": [],
   "source": []
  }
 ],
 "metadata": {
  "anaconda-cloud": {},
  "kernelspec": {
   "display_name": "Python [conda env:Python3]",
   "language": "python",
   "name": "conda-env-Python3-py"
  },
  "language_info": {
   "codemirror_mode": {
    "name": "ipython",
    "version": 3
   },
   "file_extension": ".py",
   "mimetype": "text/x-python",
   "name": "python",
   "nbconvert_exporter": "python",
   "pygments_lexer": "ipython3",
   "version": "3.5.3"
  }
 },
 "nbformat": 4,
 "nbformat_minor": 1
}
