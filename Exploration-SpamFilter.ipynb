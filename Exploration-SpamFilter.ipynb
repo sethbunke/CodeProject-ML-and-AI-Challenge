{
 "cells": [
  {
   "cell_type": "code",
   "execution_count": 40,
   "metadata": {
    "collapsed": false
   },
   "outputs": [],
   "source": [
    "from sklearn.feature_extraction.text import TfidfVectorizer\n",
    "from sklearn.feature_extraction.text import CountVectorizer\n",
    "import pandas as pd\n",
    "import csv\n",
    "import numpy as np"
   ]
  },
  {
   "cell_type": "code",
   "execution_count": 18,
   "metadata": {
    "collapsed": false
   },
   "outputs": [],
   "source": [
    "file_name = './SpamDetectionData.txt'\n",
    "rawdata = open(file_name, 'r')\n",
    "lines = rawdata.readlines()\n",
    "# myreader = csv.reader(rawdata.splitlines())\n",
    "# for row in myreader:\n",
    "#     print(row[0], row[1])"
   ]
  },
  {
   "cell_type": "code",
   "execution_count": 19,
   "metadata": {
    "collapsed": false
   },
   "outputs": [
    {
     "data": {
      "text/plain": [
       "2105"
      ]
     },
     "execution_count": 19,
     "metadata": {},
     "output_type": "execute_result"
    }
   ],
   "source": [
    "len(lines)"
   ]
  },
  {
   "cell_type": "code",
   "execution_count": 22,
   "metadata": {
    "collapsed": false
   },
   "outputs": [],
   "source": [
    "lines = lines[1:] #get rid of \"header\""
   ]
  },
  {
   "cell_type": "code",
   "execution_count": 25,
   "metadata": {
    "collapsed": false
   },
   "outputs": [
    {
     "data": {
      "text/plain": [
       "'Spam,<p>But could then once pomp to nor that glee glorious of deigned. The vexed times childe none native. To he vast now in to sore nor flow and most fabled. The few tis to loved vexed and all yet yea childe. Fulness consecrate of it before his a a a that.</p><p>Mirthful and and pangs wrong. Objects isle with partings ancient made was are. Childe and gild of all had to and ofttimes made soon from to long youth way condole sore.</p>\\n'"
      ]
     },
     "execution_count": 25,
     "metadata": {},
     "output_type": "execute_result"
    }
   ],
   "source": [
    "lines[0]"
   ]
  },
  {
   "cell_type": "code",
   "execution_count": 28,
   "metadata": {
    "collapsed": true
   },
   "outputs": [],
   "source": [
    "spam_indcator = 'Spam,<p>'"
   ]
  },
  {
   "cell_type": "code",
   "execution_count": 29,
   "metadata": {
    "collapsed": true
   },
   "outputs": [],
   "source": [
    "#for line in lines "
   ]
  },
  {
   "cell_type": "code",
   "execution_count": 36,
   "metadata": {
    "collapsed": false
   },
   "outputs": [
    {
     "data": {
      "text/plain": [
       "True"
      ]
     },
     "execution_count": 36,
     "metadata": {},
     "output_type": "execute_result"
    }
   ],
   "source": [
    "#[0 for x in lines if x.attribute == value\n",
    "\n",
    "spam_indcator in lines[0]"
   ]
  },
  {
   "cell_type": "code",
   "execution_count": 49,
   "metadata": {
    "collapsed": false
   },
   "outputs": [],
   "source": [
    "Y = np.array([1 if spam_indcator in line else 0 for line in lines])"
   ]
  },
  {
   "cell_type": "code",
   "execution_count": 50,
   "metadata": {
    "collapsed": false
   },
   "outputs": [
    {
     "name": "stdout",
     "output_type": "stream",
     "text": [
      "Spam Count: 1043 Ham Count: 1061\n"
     ]
    }
   ],
   "source": [
    "print('Spam Count: ' + str(len(Y[Y == 1])) + ' Ham Count: ' + str(len(Y[Y == 0])))"
   ]
  },
  {
   "cell_type": "code",
   "execution_count": null,
   "metadata": {
    "collapsed": false
   },
   "outputs": [],
   "source": []
  },
  {
   "cell_type": "code",
   "execution_count": 68,
   "metadata": {
    "collapsed": false
   },
   "outputs": [],
   "source": [
    "remove_key_words = ['Ham,<p>', 'Spam,<p>', '<p>', '</p>', '\\n']"
   ]
  },
  {
   "cell_type": "code",
   "execution_count": 69,
   "metadata": {
    "collapsed": false
   },
   "outputs": [
    {
     "data": {
      "text/plain": [
       "'Ham,<p>Above nevermore nothing no and chamber soul surely in my. I gloating of pallas truly sent bleak what came dreams the marvelled. Still mystery my my with nothing mystery into spoken dreaming and. Forgiveness raven lenore above cushions plutonian minute i that sure something. The streaming plume the yore into came that nothing have myself. Raven chamber pallas whether parting truly raven floor bosoms within floor maiden of scarce sculptured. But and i of quaint though the made but velvet these unto sent thy explore the. Flutter take then bird doubtless form is. Bird desolate nothing his rapping linking marvelled or the by. As many floor soul quaint hope ancient you and beating on nevermore.</p><p>Door bust all thy me desolate ease theeby my. Croaking i chamber here in my clasp sat as denser. Dreams dirges my before be. These radiant window that if. Smiling and over your with maiden visiter i hath there soon wind back no maiden to that. So rapping gileadtell fearing and of flutter. No what is angels tempest within i into and. Door that and than angels by and shorn and still more what at straight hath tapping chamber metell. Bird once streaming. Its the then nevermore angels my wandering if upon was madam i once echo my i his. From the from terrors lost burden open the a in that clasp stayed thy its surely my. Yet thee as as i whom back i the flown god and lenore.</p><p>Then over this. And as devil beguiling. Door still did only purple token weary velvet with nevermore at of nothing chamber quoth. Fearing his by sent perched name i of i by has desert so. Oer sat me nepenthe i soul. And bleak bird he rapping i and on above dreams word nevermore. Rustling my more said or still bird forgiveness i and flung. Farther but just while hauntedtell startled. The this bends. Nameless lenore of my above ebony a stock sad obeisance but angels. Sinking hear of sitting then stern on thee something. As the some is chamber engaged yet shore. Back evilprophet still i over nights till bird thing swung. Distant gileadtell smiling by or obeisance it before the what my still horror from heaven above implore quoth.</p>'"
      ]
     },
     "execution_count": 69,
     "metadata": {},
     "output_type": "execute_result"
    }
   ],
   "source": [
    "lines[-1]"
   ]
  },
  {
   "cell_type": "code",
   "execution_count": 73,
   "metadata": {
    "collapsed": true
   },
   "outputs": [],
   "source": [
    "test_line = lines[-2]"
   ]
  },
  {
   "cell_type": "code",
   "execution_count": 74,
   "metadata": {
    "collapsed": false
   },
   "outputs": [],
   "source": [
    "def remove_words(input_line, key_words):\n",
    "    temp = input_line\n",
    "    for word in key_words:\n",
    "        temp = temp.replace(word, '')\n",
    "    return temp"
   ]
  },
  {
   "cell_type": "code",
   "execution_count": 76,
   "metadata": {
    "collapsed": false
   },
   "outputs": [
    {
     "data": {
      "text/plain": [
       "'Spam,<p>Aye girls had plain the deem to a. At monastic feeble monastic mirthful had plain carnal are love albions favour shrine which dwell by. Alone scene of made of nor and to are. Given girls a hope and know name memory and power would and. Nor other what most of night flaunting feere shamed his scene near is hope spent. Despair in my lemans worse not. Nor his what he and longdeserted had by maidens than the. Ere native it with amiss known smile with been to favour oer his awake.</p><p>Scene his where run passed not low lines the if him and the sight childe who in other condole. Lines come paphian sight their which longdeserted from and though to sorrow his childe loved alas. But done apart his was like true might and fathers coffined or strange near. Harold nor in parting he charms memory native deadly he. Than by to evil shamed haply nor soul revellers such and pile breast. What his far sight mote domestic of nine were. Flow did flee made they men by from for flash breast. By climes woe times <a href=\"https://www.and.com\">to</a> to to hellas from longdeserted delight haply pride though. Though to had <a href=\"https://www.sooth.com\">made</a> that vile nor he plain bacchanals say say old tear. Me sighed the in. One mote one scene in the formed shell or run. By sadness pomp departed he more feere them delphis say far and ive he.</p><p>Amiss his they dome that childe <a href=\"https://www.albions.com\">pile</a> delight vulgar his den whateer their neer in concubines call if. Glee been bidding but before festal within the his as heart had and were breast in would. In open wins he care land. In childe of to. Was to feel his wassailers longdeserted albions calm scorching through. It day long of. Soon in if before from. His saw will pile his than and flaunting it his was his lineage or had fabled thee way muse.</p>\\n'"
      ]
     },
     "execution_count": 76,
     "metadata": {},
     "output_type": "execute_result"
    }
   ],
   "source": [
    "test_line"
   ]
  },
  {
   "cell_type": "code",
   "execution_count": 77,
   "metadata": {
    "collapsed": false
   },
   "outputs": [],
   "source": [
    "testx = remove_words(test_line, remove_key_words)"
   ]
  },
  {
   "cell_type": "code",
   "execution_count": 78,
   "metadata": {
    "collapsed": false
   },
   "outputs": [
    {
     "data": {
      "text/plain": [
       "'Aye girls had plain the deem to a. At monastic feeble monastic mirthful had plain carnal are love albions favour shrine which dwell by. Alone scene of made of nor and to are. Given girls a hope and know name memory and power would and. Nor other what most of night flaunting feere shamed his scene near is hope spent. Despair in my lemans worse not. Nor his what he and longdeserted had by maidens than the. Ere native it with amiss known smile with been to favour oer his awake.Scene his where run passed not low lines the if him and the sight childe who in other condole. Lines come paphian sight their which longdeserted from and though to sorrow his childe loved alas. But done apart his was like true might and fathers coffined or strange near. Harold nor in parting he charms memory native deadly he. Than by to evil shamed haply nor soul revellers such and pile breast. What his far sight mote domestic of nine were. Flow did flee made they men by from for flash breast. By climes woe times <a href=\"https://www.and.com\">to</a> to to hellas from longdeserted delight haply pride though. Though to had <a href=\"https://www.sooth.com\">made</a> that vile nor he plain bacchanals say say old tear. Me sighed the in. One mote one scene in the formed shell or run. By sadness pomp departed he more feere them delphis say far and ive he.Amiss his they dome that childe <a href=\"https://www.albions.com\">pile</a> delight vulgar his den whateer their neer in concubines call if. Glee been bidding but before festal within the his as heart had and were breast in would. In open wins he care land. In childe of to. Was to feel his wassailers longdeserted albions calm scorching through. It day long of. Soon in if before from. His saw will pile his than and flaunting it his was his lineage or had fabled thee way muse.'"
      ]
     },
     "execution_count": 78,
     "metadata": {},
     "output_type": "execute_result"
    }
   ],
   "source": [
    "testx"
   ]
  },
  {
   "cell_type": "code",
   "execution_count": null,
   "metadata": {
    "collapsed": true
   },
   "outputs": [],
   "source": []
  }
 ],
 "metadata": {
  "anaconda-cloud": {},
  "kernelspec": {
   "display_name": "Python [conda env:Python3]",
   "language": "python",
   "name": "conda-env-Python3-py"
  },
  "language_info": {
   "codemirror_mode": {
    "name": "ipython",
    "version": 3
   },
   "file_extension": ".py",
   "mimetype": "text/x-python",
   "name": "python",
   "nbconvert_exporter": "python",
   "pygments_lexer": "ipython3",
   "version": "3.5.3"
  }
 },
 "nbformat": 4,
 "nbformat_minor": 1
}
