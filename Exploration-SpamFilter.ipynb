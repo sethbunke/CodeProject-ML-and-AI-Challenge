{
 "cells": [
  {
   "cell_type": "code",
   "execution_count": 79,
   "metadata": {
    "collapsed": false
   },
   "outputs": [],
   "source": [
    "from sklearn.feature_extraction.text import TfidfVectorizer\n",
    "from sklearn.feature_extraction.text import CountVectorizer\n",
    "import pandas as pd\n",
    "import csv\n",
    "import numpy as np\n",
    "import pandas as pd"
   ]
  },
  {
   "cell_type": "code",
   "execution_count": 18,
   "metadata": {
    "collapsed": false
   },
   "outputs": [],
   "source": [
    "file_name = './SpamDetectionData.txt'\n",
    "rawdata = open(file_name, 'r')\n",
    "lines = rawdata.readlines()\n",
    "# myreader = csv.reader(rawdata.splitlines())\n",
    "# for row in myreader:\n",
    "#     print(row[0], row[1])"
   ]
  },
  {
   "cell_type": "code",
   "execution_count": 19,
   "metadata": {
    "collapsed": false
   },
   "outputs": [
    {
     "data": {
      "text/plain": [
       "2105"
      ]
     },
     "execution_count": 19,
     "metadata": {},
     "output_type": "execute_result"
    }
   ],
   "source": [
    "len(lines)"
   ]
  },
  {
   "cell_type": "code",
   "execution_count": 22,
   "metadata": {
    "collapsed": false
   },
   "outputs": [],
   "source": [
    "lines = lines[1:] #get rid of \"header\""
   ]
  },
  {
   "cell_type": "code",
   "execution_count": 25,
   "metadata": {
    "collapsed": false
   },
   "outputs": [
    {
     "data": {
      "text/plain": [
       "'Spam,<p>But could then once pomp to nor that glee glorious of deigned. The vexed times childe none native. To he vast now in to sore nor flow and most fabled. The few tis to loved vexed and all yet yea childe. Fulness consecrate of it before his a a a that.</p><p>Mirthful and and pangs wrong. Objects isle with partings ancient made was are. Childe and gild of all had to and ofttimes made soon from to long youth way condole sore.</p>\\n'"
      ]
     },
     "execution_count": 25,
     "metadata": {},
     "output_type": "execute_result"
    }
   ],
   "source": [
    "lines[0]"
   ]
  },
  {
   "cell_type": "code",
   "execution_count": 28,
   "metadata": {
    "collapsed": true
   },
   "outputs": [],
   "source": [
    "spam_indcator = 'Spam,<p>'"
   ]
  },
  {
   "cell_type": "code",
   "execution_count": 29,
   "metadata": {
    "collapsed": true
   },
   "outputs": [],
   "source": [
    "#for line in lines "
   ]
  },
  {
   "cell_type": "code",
   "execution_count": 36,
   "metadata": {
    "collapsed": false
   },
   "outputs": [
    {
     "data": {
      "text/plain": [
       "True"
      ]
     },
     "execution_count": 36,
     "metadata": {},
     "output_type": "execute_result"
    }
   ],
   "source": [
    "#[0 for x in lines if x.attribute == value\n",
    "\n",
    "spam_indcator in lines[0]"
   ]
  },
  {
   "cell_type": "code",
   "execution_count": 49,
   "metadata": {
    "collapsed": false
   },
   "outputs": [],
   "source": [
    "Y = np.array([1 if spam_indcator in line else 0 for line in lines])"
   ]
  },
  {
   "cell_type": "code",
   "execution_count": 50,
   "metadata": {
    "collapsed": false
   },
   "outputs": [
    {
     "name": "stdout",
     "output_type": "stream",
     "text": [
      "Spam Count: 1043 Ham Count: 1061\n"
     ]
    }
   ],
   "source": [
    "print('Spam Count: ' + str(len(Y[Y == 1])) + ' Ham Count: ' + str(len(Y[Y == 0])))"
   ]
  },
  {
   "cell_type": "code",
   "execution_count": null,
   "metadata": {
    "collapsed": false
   },
   "outputs": [],
   "source": []
  },
  {
   "cell_type": "code",
   "execution_count": 68,
   "metadata": {
    "collapsed": false
   },
   "outputs": [],
   "source": [
    "remove_key_words = ['Ham,<p>', 'Spam,<p>', '<p>', '</p>', '\\n']"
   ]
  },
  {
   "cell_type": "code",
   "execution_count": 69,
   "metadata": {
    "collapsed": false
   },
   "outputs": [
    {
     "data": {
      "text/plain": [
       "'Ham,<p>Above nevermore nothing no and chamber soul surely in my. I gloating of pallas truly sent bleak what came dreams the marvelled. Still mystery my my with nothing mystery into spoken dreaming and. Forgiveness raven lenore above cushions plutonian minute i that sure something. The streaming plume the yore into came that nothing have myself. Raven chamber pallas whether parting truly raven floor bosoms within floor maiden of scarce sculptured. But and i of quaint though the made but velvet these unto sent thy explore the. Flutter take then bird doubtless form is. Bird desolate nothing his rapping linking marvelled or the by. As many floor soul quaint hope ancient you and beating on nevermore.</p><p>Door bust all thy me desolate ease theeby my. Croaking i chamber here in my clasp sat as denser. Dreams dirges my before be. These radiant window that if. Smiling and over your with maiden visiter i hath there soon wind back no maiden to that. So rapping gileadtell fearing and of flutter. No what is angels tempest within i into and. Door that and than angels by and shorn and still more what at straight hath tapping chamber metell. Bird once streaming. Its the then nevermore angels my wandering if upon was madam i once echo my i his. From the from terrors lost burden open the a in that clasp stayed thy its surely my. Yet thee as as i whom back i the flown god and lenore.</p><p>Then over this. And as devil beguiling. Door still did only purple token weary velvet with nevermore at of nothing chamber quoth. Fearing his by sent perched name i of i by has desert so. Oer sat me nepenthe i soul. And bleak bird he rapping i and on above dreams word nevermore. Rustling my more said or still bird forgiveness i and flung. Farther but just while hauntedtell startled. The this bends. Nameless lenore of my above ebony a stock sad obeisance but angels. Sinking hear of sitting then stern on thee something. As the some is chamber engaged yet shore. Back evilprophet still i over nights till bird thing swung. Distant gileadtell smiling by or obeisance it before the what my still horror from heaven above implore quoth.</p>'"
      ]
     },
     "execution_count": 69,
     "metadata": {},
     "output_type": "execute_result"
    }
   ],
   "source": [
    "lines[-1]"
   ]
  },
  {
   "cell_type": "code",
   "execution_count": 73,
   "metadata": {
    "collapsed": true
   },
   "outputs": [],
   "source": [
    "test_line = lines[-2]"
   ]
  },
  {
   "cell_type": "code",
   "execution_count": 74,
   "metadata": {
    "collapsed": false
   },
   "outputs": [],
   "source": [
    "def remove_words(input_line, key_words):\n",
    "    temp = input_line\n",
    "    for word in key_words:\n",
    "        temp = temp.replace(word, '')\n",
    "    return temp"
   ]
  },
  {
   "cell_type": "code",
   "execution_count": 76,
   "metadata": {
    "collapsed": false
   },
   "outputs": [
    {
     "data": {
      "text/plain": [
       "'Spam,<p>Aye girls had plain the deem to a. At monastic feeble monastic mirthful had plain carnal are love albions favour shrine which dwell by. Alone scene of made of nor and to are. Given girls a hope and know name memory and power would and. Nor other what most of night flaunting feere shamed his scene near is hope spent. Despair in my lemans worse not. Nor his what he and longdeserted had by maidens than the. Ere native it with amiss known smile with been to favour oer his awake.</p><p>Scene his where run passed not low lines the if him and the sight childe who in other condole. Lines come paphian sight their which longdeserted from and though to sorrow his childe loved alas. But done apart his was like true might and fathers coffined or strange near. Harold nor in parting he charms memory native deadly he. Than by to evil shamed haply nor soul revellers such and pile breast. What his far sight mote domestic of nine were. Flow did flee made they men by from for flash breast. By climes woe times <a href=\"https://www.and.com\">to</a> to to hellas from longdeserted delight haply pride though. Though to had <a href=\"https://www.sooth.com\">made</a> that vile nor he plain bacchanals say say old tear. Me sighed the in. One mote one scene in the formed shell or run. By sadness pomp departed he more feere them delphis say far and ive he.</p><p>Amiss his they dome that childe <a href=\"https://www.albions.com\">pile</a> delight vulgar his den whateer their neer in concubines call if. Glee been bidding but before festal within the his as heart had and were breast in would. In open wins he care land. In childe of to. Was to feel his wassailers longdeserted albions calm scorching through. It day long of. Soon in if before from. His saw will pile his than and flaunting it his was his lineage or had fabled thee way muse.</p>\\n'"
      ]
     },
     "execution_count": 76,
     "metadata": {},
     "output_type": "execute_result"
    }
   ],
   "source": [
    "test_line"
   ]
  },
  {
   "cell_type": "code",
   "execution_count": 77,
   "metadata": {
    "collapsed": false
   },
   "outputs": [],
   "source": [
    "testx = remove_words(test_line, remove_key_words)"
   ]
  },
  {
   "cell_type": "code",
   "execution_count": 78,
   "metadata": {
    "collapsed": false
   },
   "outputs": [
    {
     "data": {
      "text/plain": [
       "'Aye girls had plain the deem to a. At monastic feeble monastic mirthful had plain carnal are love albions favour shrine which dwell by. Alone scene of made of nor and to are. Given girls a hope and know name memory and power would and. Nor other what most of night flaunting feere shamed his scene near is hope spent. Despair in my lemans worse not. Nor his what he and longdeserted had by maidens than the. Ere native it with amiss known smile with been to favour oer his awake.Scene his where run passed not low lines the if him and the sight childe who in other condole. Lines come paphian sight their which longdeserted from and though to sorrow his childe loved alas. But done apart his was like true might and fathers coffined or strange near. Harold nor in parting he charms memory native deadly he. Than by to evil shamed haply nor soul revellers such and pile breast. What his far sight mote domestic of nine were. Flow did flee made they men by from for flash breast. By climes woe times <a href=\"https://www.and.com\">to</a> to to hellas from longdeserted delight haply pride though. Though to had <a href=\"https://www.sooth.com\">made</a> that vile nor he plain bacchanals say say old tear. Me sighed the in. One mote one scene in the formed shell or run. By sadness pomp departed he more feere them delphis say far and ive he.Amiss his they dome that childe <a href=\"https://www.albions.com\">pile</a> delight vulgar his den whateer their neer in concubines call if. Glee been bidding but before festal within the his as heart had and were breast in would. In open wins he care land. In childe of to. Was to feel his wassailers longdeserted albions calm scorching through. It day long of. Soon in if before from. His saw will pile his than and flaunting it his was his lineage or had fabled thee way muse.'"
      ]
     },
     "execution_count": 78,
     "metadata": {},
     "output_type": "execute_result"
    }
   ],
   "source": [
    "testx"
   ]
  },
  {
   "cell_type": "code",
   "execution_count": 86,
   "metadata": {
    "collapsed": true
   },
   "outputs": [],
   "source": [
    "df = pd.DataFrame()"
   ]
  },
  {
   "cell_type": "code",
   "execution_count": 84,
   "metadata": {
    "collapsed": false
   },
   "outputs": [],
   "source": [
    "df['Y'] = Y\n",
    "df['Text'] = lines"
   ]
  },
  {
   "cell_type": "code",
   "execution_count": 85,
   "metadata": {
    "collapsed": false
   },
   "outputs": [
    {
     "data": {
      "text/plain": [
       "<bound method NDFrame.head of       Y                                               Text\n",
       "0     1  Spam,<p>But could then once pomp to nor that g...\n",
       "1     1  Spam,<p>His honeyed and land vile are so and n...\n",
       "2     1  Spam,<p>Tear womans his was by had tis her ere...\n",
       "3     1  Spam,<p>The that and land. Cell shun blazon pa...\n",
       "4     1  Spam,<p>Sing aught through partings things was...\n",
       "5     1  Spam,<p>He den blazon would did prose to he de...\n",
       "6     1  Spam,<p>In land monastic had sadness will. Fou...\n",
       "7     1  Spam,<p>Given to in now she. Were did moths mo...\n",
       "8     1  Spam,<p>One unto hight lands sea at childe to ...\n",
       "9     1  Spam,<p>What in ever men honeyed dote. Then th...\n",
       "10    1  Spam,<p>But will aye alas mirthful begun said ...\n",
       "11    1  Spam,<p>Day albions might thou prose or who wr...\n",
       "12    1  Spam,<p>Upon he and or the his tis caught. But...\n",
       "13    1  Spam,<p>Artless that or shell sighed drowsy no...\n",
       "14    1  Spam,<p>Pillared oh the grace name gild throug...\n",
       "15    1  Spam,<p>Ever cared earth wight if the he a. Fi...\n",
       "16    1  Spam,<p>Scape eremites he flatterers and been ...\n",
       "17    1  Spam,<p>Ere suffice not plain that maidens hou...\n",
       "18    1  Spam,<p>Revel his lines condole awake in lay d...\n",
       "19    1  Spam,<p>That ways day prose joyless superstiti...\n",
       "20    1  Spam,<p>Riot he are was the in lineage girls p...\n",
       "21    1  Spam,<p>So the love pangs partings thy fame al...\n",
       "22    1  Spam,<p>Him ah he more things long from mine f...\n",
       "23    1  Spam,<p>Sullen his scorching riot calm with su...\n",
       "24    1  Spam,<p>Domestic adieu time left heart each gi...\n",
       "25    1  Spam,<p>Him nor a ere day. And a pleasure or c...\n",
       "26    1  Spam,<p>A pollution sighed was. To departed no...\n",
       "27    1  Spam,<p>Chill tear drop of formed childe disap...\n",
       "28    1  Spam,<p>Sore in thou one friends satiety he sa...\n",
       "29    1  Spam,<p>Dear aught chill love can the loathed....\n",
       "...  ..                                                ...\n",
       "2074  0  Ham,<p>Then more ah betook heart word i the. S...\n",
       "2075  1  Spam,<p>Fabled strength the rill aisle. Flatte...\n",
       "2076  0  Ham,<p>Nevermore just a of whose still mystery...\n",
       "2077  0  Ham,<p>Napping chamber upon this saintly above...\n",
       "2078  1  Spam,<p>Or to and. Goodly lowly youth his did ...\n",
       "2079  0  Ham,<p>As darkness my desolate whom myself god...\n",
       "2080  1  Spam,<p>Concubines nor harold and shameless de...\n",
       "2081  1  Spam,<p>Me name relief had name ungodly his he...\n",
       "2082  0  Ham,<p>As door hopes. And lady this and dream ...\n",
       "2083  0  Ham,<p>At heart it laden chamber me more only ...\n",
       "2084  1  Spam,<p>A favour what whilome within childe of...\n",
       "2085  1  Spam,<p>From brow care of soils. Eros he for b...\n",
       "2086  1  Spam,<p>Dote to he from uses artless ever they...\n",
       "2087  0  Ham,<p>Wrought smiling door implore still terr...\n",
       "2088  0  Ham,<p>Pondered of evilprophet. And the above ...\n",
       "2089  0  Ham,<p>Of some heart stillness radiant now had...\n",
       "2090  0  Ham,<p>Thy sainted still with nameless is we t...\n",
       "2091  0  Ham,<p>Lenore sat by wondering marvelled thy o...\n",
       "2092  0  Ham,<p>Gloated flutter said a more not flung v...\n",
       "2093  0  Ham,<p>Stillness tapping thinking the with tin...\n",
       "2094  1  Spam,<p>Of shades are of so objects so to from...\n",
       "2095  0  Ham,<p>Spoken wore shall long a that beast you...\n",
       "2096  0  Ham,<p>Before of divining. Raven fancy till to...\n",
       "2097  0  Ham,<p>Lining as my did nepenthe much lenore b...\n",
       "2098  1  Spam,<p>A charms his of childe him. Lowly one ...\n",
       "2099  0  Ham,<p>Distant pondered me sought so there per...\n",
       "2100  1  Spam,<p>Relief flee not and. Oh will shamed mi...\n",
       "2101  0  Ham,<p>Gloated just the shrieked lost morrow i...\n",
       "2102  1  Spam,<p>Aye girls had plain the deem to a. At ...\n",
       "2103  0  Ham,<p>Above nevermore nothing no and chamber ...\n",
       "\n",
       "[2104 rows x 2 columns]>"
      ]
     },
     "execution_count": 85,
     "metadata": {},
     "output_type": "execute_result"
    }
   ],
   "source": [
    "df.head"
   ]
  },
  {
   "cell_type": "code",
   "execution_count": null,
   "metadata": {
    "collapsed": true
   },
   "outputs": [],
   "source": []
  }
 ],
 "metadata": {
  "anaconda-cloud": {},
  "kernelspec": {
   "display_name": "Python [conda env:Python3]",
   "language": "python",
   "name": "conda-env-Python3-py"
  },
  "language_info": {
   "codemirror_mode": {
    "name": "ipython",
    "version": 3
   },
   "file_extension": ".py",
   "mimetype": "text/x-python",
   "name": "python",
   "nbconvert_exporter": "python",
   "pygments_lexer": "ipython3",
   "version": "3.5.3"
  }
 },
 "nbformat": 4,
 "nbformat_minor": 1
}
