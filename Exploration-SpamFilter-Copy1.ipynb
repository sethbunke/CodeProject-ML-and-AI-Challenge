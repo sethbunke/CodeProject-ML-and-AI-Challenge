{
 "cells": [
  {
   "cell_type": "code",
   "execution_count": 36,
   "metadata": {
    "collapsed": false
   },
   "outputs": [],
   "source": [
    "from sklearn.feature_extraction.text import TfidfVectorizer\n",
    "from sklearn.feature_extraction.text import CountVectorizer\n",
    "import pandas as pd\n",
    "import csv\n",
    "import numpy as np\n",
    "from sklearn.feature_extraction.text import CountVectorizer\n",
    "from sklearn.pipeline import FeatureUnion\n",
    "from sklearn.pipeline import Pipeline\n",
    "from sklearn.grid_search import GridSearchCV\n",
    "from sklearn.cross_validation import KFold\n",
    "from sklearn.cross_validation import cross_val_score\n",
    "from sklearn.preprocessing import StandardScaler\n",
    "from sklearn.pipeline import Pipeline\n",
    "from sklearn.discriminant_analysis import LinearDiscriminantAnalysis\n",
    "from sklearn.utils import shuffle"
   ]
  },
  {
   "cell_type": "code",
   "execution_count": 4,
   "metadata": {
    "collapsed": false
   },
   "outputs": [],
   "source": [
    "file_name = './SpamDetectionData.txt'\n",
    "rawdata = open(file_name, 'r')\n",
    "lines = rawdata.readlines()"
   ]
  },
  {
   "cell_type": "code",
   "execution_count": 5,
   "metadata": {
    "collapsed": false
   },
   "outputs": [
    {
     "data": {
      "text/plain": [
       "2105"
      ]
     },
     "execution_count": 5,
     "metadata": {},
     "output_type": "execute_result"
    }
   ],
   "source": [
    "len(lines)"
   ]
  },
  {
   "cell_type": "code",
   "execution_count": 6,
   "metadata": {
    "collapsed": false
   },
   "outputs": [],
   "source": [
    "lines = lines[1:] #get rid of \"header\""
   ]
  },
  {
   "cell_type": "code",
   "execution_count": 8,
   "metadata": {
    "collapsed": false
   },
   "outputs": [
    {
     "data": {
      "text/plain": [
       "'Spam,<p>But could then once pomp to nor that glee glorious of deigned. The vexed times childe none native. To he vast now in to sore nor flow and most fabled. The few tis to loved vexed and all yet yea childe. Fulness consecrate of it before his a a a that.</p><p>Mirthful and and pangs wrong. Objects isle with partings ancient made was are. Childe and gild of all had to and ofttimes made soon from to long youth way condole sore.</p>\\n'"
      ]
     },
     "execution_count": 8,
     "metadata": {},
     "output_type": "execute_result"
    }
   ],
   "source": [
    "lines[0]"
   ]
  },
  {
   "cell_type": "code",
   "execution_count": 23,
   "metadata": {
    "collapsed": true
   },
   "outputs": [],
   "source": [
    "spam_indcator = 'Spam,<p>'"
   ]
  },
  {
   "cell_type": "code",
   "execution_count": 24,
   "metadata": {
    "collapsed": false
   },
   "outputs": [],
   "source": [
    "# 1 is spam, 0 is ham\n",
    "y = np.array([1 if spam_indcator in line else 0 for line in lines])"
   ]
  },
  {
   "cell_type": "code",
   "execution_count": 25,
   "metadata": {
    "collapsed": false
   },
   "outputs": [
    {
     "name": "stdout",
     "output_type": "stream",
     "text": [
      "Spam Count: 1043 Ham Count: 1061\n"
     ]
    }
   ],
   "source": [
    "print('Spam Count: ' + str(len(y[y == 1])) + ' Ham Count: ' + str(len(y[y == 0])))"
   ]
  },
  {
   "cell_type": "code",
   "execution_count": 26,
   "metadata": {
    "collapsed": true
   },
   "outputs": [],
   "source": [
    "df = pd.DataFrame()\n",
    "df['Y'] = y\n",
    "df['Text'] = lines"
   ]
  },
  {
   "cell_type": "code",
   "execution_count": 35,
   "metadata": {
    "collapsed": false
   },
   "outputs": [
    {
     "data": {
      "text/html": [
       "<div>\n",
       "<style>\n",
       "    .dataframe thead tr:only-child th {\n",
       "        text-align: right;\n",
       "    }\n",
       "\n",
       "    .dataframe thead th {\n",
       "        text-align: left;\n",
       "    }\n",
       "\n",
       "    .dataframe tbody tr th {\n",
       "        vertical-align: top;\n",
       "    }\n",
       "</style>\n",
       "<table border=\"1\" class=\"dataframe\">\n",
       "  <thead>\n",
       "    <tr style=\"text-align: right;\">\n",
       "      <th></th>\n",
       "      <th>Y</th>\n",
       "      <th>Text</th>\n",
       "    </tr>\n",
       "  </thead>\n",
       "  <tbody>\n",
       "    <tr>\n",
       "      <th>2099</th>\n",
       "      <td>0</td>\n",
       "      <td>Ham,&lt;p&gt;Distant pondered me sought so there per...</td>\n",
       "    </tr>\n",
       "    <tr>\n",
       "      <th>2100</th>\n",
       "      <td>1</td>\n",
       "      <td>Spam,&lt;p&gt;Relief flee not and. Oh will shamed mi...</td>\n",
       "    </tr>\n",
       "    <tr>\n",
       "      <th>2101</th>\n",
       "      <td>0</td>\n",
       "      <td>Ham,&lt;p&gt;Gloated just the shrieked lost morrow i...</td>\n",
       "    </tr>\n",
       "    <tr>\n",
       "      <th>2102</th>\n",
       "      <td>1</td>\n",
       "      <td>Spam,&lt;p&gt;Aye girls had plain the deem to a. At ...</td>\n",
       "    </tr>\n",
       "  </tbody>\n",
       "</table>\n",
       "</div>"
      ],
      "text/plain": [
       "      Y                                               Text\n",
       "2099  0  Ham,<p>Distant pondered me sought so there per...\n",
       "2100  1  Spam,<p>Relief flee not and. Oh will shamed mi...\n",
       "2101  0  Ham,<p>Gloated just the shrieked lost morrow i...\n",
       "2102  1  Spam,<p>Aye girls had plain the deem to a. At ..."
      ]
     },
     "execution_count": 35,
     "metadata": {},
     "output_type": "execute_result"
    }
   ],
   "source": [
    "df[-5:-1]"
   ]
  },
  {
   "cell_type": "code",
   "execution_count": 28,
   "metadata": {
    "collapsed": false
   },
   "outputs": [],
   "source": [
    "words_to_remove = ['Ham,<p>', 'Spam,<p>', '<p>', '</p>', '\\n']"
   ]
  },
  {
   "cell_type": "code",
   "execution_count": 29,
   "metadata": {
    "collapsed": false
   },
   "outputs": [],
   "source": [
    "def remove_words(input_line, key_words=words_to_remove):\n",
    "    temp = input_line\n",
    "    for word in key_words:\n",
    "        temp = temp.replace(word, '')\n",
    "    return temp"
   ]
  },
  {
   "cell_type": "code",
   "execution_count": 37,
   "metadata": {
    "collapsed": true
   },
   "outputs": [],
   "source": [
    "lines_shuffled, y_shuffled = shuffle(lines, y, random_state=0)"
   ]
  },
  {
   "cell_type": "code",
   "execution_count": 38,
   "metadata": {
    "collapsed": true
   },
   "outputs": [],
   "source": [
    "df = pd.DataFrame()"
   ]
  },
  {
   "cell_type": "code",
   "execution_count": 39,
   "metadata": {
    "collapsed": false
   },
   "outputs": [],
   "source": [
    "df['Y'] = y_shuffled\n",
    "df['Text'] = lines_shuffled"
   ]
  },
  {
   "cell_type": "code",
   "execution_count": 40,
   "metadata": {
    "collapsed": false
   },
   "outputs": [
    {
     "data": {
      "text/plain": [
       "<bound method NDFrame.head of       Y                                               Text\n",
       "0     0  Ham,<p>This still sad chamber a of a he meanin...\n",
       "1     0  Ham,<p>Form dreams living i mien of bust is bl...\n",
       "2     0  Ham,<p>But is the i quoth footfalls and i recl...\n",
       "3     1  Spam,<p>Pangs amiss were in. Noontide and favo...\n",
       "4     1  Spam,<p>Nor he cared mirthful in loathed dispo...\n",
       "5     1  Spam,<p>Are delphis and was mirth. And tear oh...\n",
       "6     0  Ham,<p>And one the is grave and or i of. This ...\n",
       "7     1  Spam,<p>Can mother aye run whateer given apart...\n",
       "8     1  Spam,<p>Steel tis youth virtues the deigned th...\n",
       "9     0  Ham,<p>Here and eyes from enchanted shorn his ...\n",
       "10    1  Spam,<p>Oft coffined he dear and shamed not gl...\n",
       "11    1  Spam,<p>Childe from and had. Loved and one or ...\n",
       "12    1  Spam,<p>Not deem a take a memory childe so shr...\n",
       "13    1  Spam,<p>That reverie sighed eros low to consec...\n",
       "14    0  Ham,<p>Ember said me usby of of surely angels....\n",
       "15    1  Spam,<p>Name are there longdeserted to than st...\n",
       "16    0  Ham,<p>Back the songs gloating the tossed that...\n",
       "17    0  Ham,<p>And within the name the but as more the...\n",
       "18    0  Ham,<p>Truly my upon than you it a hesitating ...\n",
       "19    0  Ham,<p>Sorrow nothing thy unhappy uncertain th...\n",
       "20    0  Ham,<p>Of each rustling my dreaming i mystery ...\n",
       "21    1  Spam,<p>Revel the could ye where which worse h...\n",
       "22    1  Spam,<p>Did run adversity not satiety. Hope no...\n",
       "23    1  Spam,<p>And sought was present loved deem nor ...\n",
       "24    0  Ham,<p>Weak faster out the kind smiling stock ...\n",
       "25    1  Spam,<p>Would would of worse forgot bower yet ...\n",
       "26    1  Spam,<p>Losel a since nor. Day earthly he deli...\n",
       "27    1  Spam,<p>Mothernot goodly to brow but will dwel...\n",
       "28    0  Ham,<p>Of at rustling the now yore. Sign fowl ...\n",
       "29    0  Ham,<p>Shadow bird has when to saintly. And le...\n",
       "...  ..                                                ...\n",
       "2074  0  Ham,<p>The devil quaint perfumed tossed into s...\n",
       "2075  1  Spam,<p>Hope to haply delphis from but once th...\n",
       "2076  0  Ham,<p>Nevermore just a of whose still mystery...\n",
       "2077  0  Ham,<p>That is name quoth dying be lie at step...\n",
       "2078  1  Spam,<p>Muse had his know ne long the when or ...\n",
       "2079  1  Spam,<p>Harold revel his for festal ee was had...\n",
       "2080  1  Spam,<p>Domestic he favour his earth grace her...\n",
       "2081  1  Spam,<p>Did pile there pomp though reverie onc...\n",
       "2082  1  Spam,<p>Could harold virtues kiss from nor his...\n",
       "2083  1  Spam,<p>Sorrow sore sad who his sooth change p...\n",
       "2084  1  Spam,<p>Fame there nor might flee his dear. Fu...\n",
       "2085  0  Ham,<p>Thy sainted still with nameless is we t...\n",
       "2086  1  Spam,<p>So his chaste my. Mote way fabled as o...\n",
       "2087  1  Spam,<p>To departed who land go save had gathe...\n",
       "2088  0  Ham,<p>Heart maiden that oer one. Mortals viol...\n",
       "2089  1  Spam,<p>Men one and and saw will there a. Late...\n",
       "2090  1  Spam,<p>Upon mirthful dwell ee of within riot ...\n",
       "2091  1  Spam,<p>Upon hall present he birth hall breast...\n",
       "2092  0  Ham,<p>Crest and before beating while that doo...\n",
       "2093  1  Spam,<p>This degree light of upon wight the by...\n",
       "2094  0  Ham,<p>At nodded whose no raven is that on had...\n",
       "2095  1  Spam,<p>Departed done below breast true taste ...\n",
       "2096  0  Ham,<p>Many the wore sat pondered tis made and...\n",
       "2097  0  Ham,<p>A blessed seeing at the my then whose d...\n",
       "2098  1  Spam,<p>To spoiled scape glare once thy condem...\n",
       "2099  0  Ham,<p>Lady upon unmerciful and you bird this ...\n",
       "2100  0  Ham,<p>Whose of said plutonian lord nevermore ...\n",
       "2101  1  Spam,<p>Muse but mothernot. Known bacchanals c...\n",
       "2102  1  Spam,<p>Aye of not ways sight and shrine but. ...\n",
       "2103  0  Ham,<p>If the i all a at. Volume a there then ...\n",
       "\n",
       "[2104 rows x 2 columns]>"
      ]
     },
     "execution_count": 40,
     "metadata": {},
     "output_type": "execute_result"
    }
   ],
   "source": [
    "df.head"
   ]
  },
  {
   "cell_type": "code",
   "execution_count": 97,
   "metadata": {
    "collapsed": true
   },
   "outputs": [],
   "source": [
    "#vectorize\n",
    "#tf-idf\n",
    "#shuffle\n",
    "#split\n",
    "#train\n",
    "#test\n",
    "#accuracy"
   ]
  },
  {
   "cell_type": "code",
   "execution_count": null,
   "metadata": {
    "collapsed": true
   },
   "outputs": [],
   "source": []
  },
  {
   "cell_type": "code",
   "execution_count": 98,
   "metadata": {
    "collapsed": true
   },
   "outputs": [],
   "source": [
    "from sklearn.feature_extraction.text import CountVectorizer"
   ]
  },
  {
   "cell_type": "code",
   "execution_count": 99,
   "metadata": {
    "collapsed": true
   },
   "outputs": [],
   "source": [
    "X = df['Text']\n",
    "y = df['Y']"
   ]
  },
  {
   "cell_type": "code",
   "execution_count": 101,
   "metadata": {
    "collapsed": false
   },
   "outputs": [
    {
     "name": "stdout",
     "output_type": "stream",
     "text": [
      "(2104, 787)\n"
     ]
    }
   ],
   "source": [
    "vect = CountVectorizer()\n",
    "_ = vect.fit_transform(X)\n",
    "print(_.shape)"
   ]
  },
  {
   "cell_type": "code",
   "execution_count": 116,
   "metadata": {
    "collapsed": false
   },
   "outputs": [],
   "source": [
    "test_apply = df['Text'].apply(remove_words)"
   ]
  },
  {
   "cell_type": "code",
   "execution_count": 117,
   "metadata": {
    "collapsed": false
   },
   "outputs": [
    {
     "data": {
      "text/plain": [
       "<bound method NDFrame.head of 0       But could then once pomp to nor that glee glor...\n",
       "1       His honeyed and land vile are so and native fr...\n",
       "2       Tear womans his was by had tis her eremites th...\n",
       "3       The that and land. Cell shun blazon passion un...\n",
       "4       Sing aught through partings things was sacred ...\n",
       "5       He den blazon would did prose to he deigned wa...\n",
       "6       In land monastic had sadness will. Found not m...\n",
       "7       Given to in now she. Were did moths mood days ...\n",
       "8       One unto hight lands sea at childe to this eve...\n",
       "9       What in ever men honeyed dote. Then the aye wh...\n",
       "10      But will aye alas mirthful begun said he suffi...\n",
       "11      Day albions might thou prose or who wrong and ...\n",
       "12      Upon he and or the his tis caught. But scorchi...\n",
       "13      Artless that or shell sighed drowsy nor dear b...\n",
       "14      Pillared oh the grace name gild through sore s...\n",
       "15      Ever cared earth wight if the he a. Finds madd...\n",
       "16      Scape eremites he flatterers and been and begu...\n",
       "17      Ere suffice not plain that maidens hour fulnes...\n",
       "18      Revel his lines condole awake in lay dwell at ...\n",
       "19      That ways day prose joyless superstition flow ...\n",
       "20      Riot he are was the in lineage girls passed in...\n",
       "21      So the love pangs partings thy fame almost ee ...\n",
       "22      Him ah he more things long from mine for. Unto...\n",
       "23      Sullen his scorching riot calm with superstiti...\n",
       "24      Domestic adieu time left heart each girls noon...\n",
       "25      Him nor a ere day. And a pleasure or charms ob...\n",
       "26      A pollution sighed was. To departed not upon h...\n",
       "27      Chill tear drop of formed childe disappointed ...\n",
       "28      Sore in thou one friends satiety he save not t...\n",
       "29      Dear aught chill love can the loathed. Before ...\n",
       "                              ...                        \n",
       "2074    Then more ah betook heart word i the. Shutter ...\n",
       "2075    Fabled strength the rill aisle. Flatterers to ...\n",
       "2076    Nevermore just a of whose still mystery of hat...\n",
       "2077    Napping chamber upon this saintly above i whos...\n",
       "2078    Or to and. Goodly lowly youth his did seraphs ...\n",
       "2079    As darkness my desolate whom myself god sat he...\n",
       "2080    Concubines nor harold and shameless degree his...\n",
       "2081    Me name relief had name ungodly his he him car...\n",
       "2082    As door hopes. And lady this and dream the onl...\n",
       "2083    At heart it laden chamber me more only is floo...\n",
       "2084    A favour what whilome within childe of childe ...\n",
       "2085    From brow care of soils. Eros he for by hour g...\n",
       "2086    Dote to he from uses artless ever they though ...\n",
       "2087    Wrought smiling door implore still terrors he ...\n",
       "2088    Pondered of evilprophet. And the above door of...\n",
       "2089    Of some heart stillness radiant now had chambe...\n",
       "2090    Thy sainted still with nameless is we the temp...\n",
       "2091    Lenore sat by wondering marvelled thy of. This...\n",
       "2092    Gloated flutter said a more not flung velvet g...\n",
       "2093    Stillness tapping thinking the with tinkled va...\n",
       "2094    Of shades are of so objects so to from lurked ...\n",
       "2095    Spoken wore shall long a that beast youhere hi...\n",
       "2096    Before of divining. Raven fancy till token mor...\n",
       "2097    Lining as my did nepenthe much lenore by forge...\n",
       "2098    A charms his of childe him. Lowly one was befo...\n",
       "2099    Distant pondered me sought so there perched me...\n",
       "2100    Relief flee not and. Oh will shamed mine by wh...\n",
       "2101    Gloated just the shrieked lost morrow in my bo...\n",
       "2102    Aye girls had plain the deem to a. At monastic...\n",
       "2103    Above nevermore nothing no and chamber soul su...\n",
       "Name: Text, Length: 2104, dtype: object>"
      ]
     },
     "execution_count": 117,
     "metadata": {},
     "output_type": "execute_result"
    }
   ],
   "source": [
    "test_apply.head"
   ]
  },
  {
   "cell_type": "code",
   "execution_count": 118,
   "metadata": {
    "collapsed": true
   },
   "outputs": [],
   "source": [
    "df['Text'] = test_apply"
   ]
  },
  {
   "cell_type": "code",
   "execution_count": 119,
   "metadata": {
    "collapsed": false
   },
   "outputs": [
    {
     "data": {
      "text/plain": [
       "<bound method NDFrame.head of       Y                                               Text\n",
       "0     1  But could then once pomp to nor that glee glor...\n",
       "1     1  His honeyed and land vile are so and native fr...\n",
       "2     1  Tear womans his was by had tis her eremites th...\n",
       "3     1  The that and land. Cell shun blazon passion un...\n",
       "4     1  Sing aught through partings things was sacred ...\n",
       "5     1  He den blazon would did prose to he deigned wa...\n",
       "6     1  In land monastic had sadness will. Found not m...\n",
       "7     1  Given to in now she. Were did moths mood days ...\n",
       "8     1  One unto hight lands sea at childe to this eve...\n",
       "9     1  What in ever men honeyed dote. Then the aye wh...\n",
       "10    1  But will aye alas mirthful begun said he suffi...\n",
       "11    1  Day albions might thou prose or who wrong and ...\n",
       "12    1  Upon he and or the his tis caught. But scorchi...\n",
       "13    1  Artless that or shell sighed drowsy nor dear b...\n",
       "14    1  Pillared oh the grace name gild through sore s...\n",
       "15    1  Ever cared earth wight if the he a. Finds madd...\n",
       "16    1  Scape eremites he flatterers and been and begu...\n",
       "17    1  Ere suffice not plain that maidens hour fulnes...\n",
       "18    1  Revel his lines condole awake in lay dwell at ...\n",
       "19    1  That ways day prose joyless superstition flow ...\n",
       "20    1  Riot he are was the in lineage girls passed in...\n",
       "21    1  So the love pangs partings thy fame almost ee ...\n",
       "22    1  Him ah he more things long from mine for. Unto...\n",
       "23    1  Sullen his scorching riot calm with superstiti...\n",
       "24    1  Domestic adieu time left heart each girls noon...\n",
       "25    1  Him nor a ere day. And a pleasure or charms ob...\n",
       "26    1  A pollution sighed was. To departed not upon h...\n",
       "27    1  Chill tear drop of formed childe disappointed ...\n",
       "28    1  Sore in thou one friends satiety he save not t...\n",
       "29    1  Dear aught chill love can the loathed. Before ...\n",
       "...  ..                                                ...\n",
       "2074  0  Then more ah betook heart word i the. Shutter ...\n",
       "2075  1  Fabled strength the rill aisle. Flatterers to ...\n",
       "2076  0  Nevermore just a of whose still mystery of hat...\n",
       "2077  0  Napping chamber upon this saintly above i whos...\n",
       "2078  1  Or to and. Goodly lowly youth his did seraphs ...\n",
       "2079  0  As darkness my desolate whom myself god sat he...\n",
       "2080  1  Concubines nor harold and shameless degree his...\n",
       "2081  1  Me name relief had name ungodly his he him car...\n",
       "2082  0  As door hopes. And lady this and dream the onl...\n",
       "2083  0  At heart it laden chamber me more only is floo...\n",
       "2084  1  A favour what whilome within childe of childe ...\n",
       "2085  1  From brow care of soils. Eros he for by hour g...\n",
       "2086  1  Dote to he from uses artless ever they though ...\n",
       "2087  0  Wrought smiling door implore still terrors he ...\n",
       "2088  0  Pondered of evilprophet. And the above door of...\n",
       "2089  0  Of some heart stillness radiant now had chambe...\n",
       "2090  0  Thy sainted still with nameless is we the temp...\n",
       "2091  0  Lenore sat by wondering marvelled thy of. This...\n",
       "2092  0  Gloated flutter said a more not flung velvet g...\n",
       "2093  0  Stillness tapping thinking the with tinkled va...\n",
       "2094  1  Of shades are of so objects so to from lurked ...\n",
       "2095  0  Spoken wore shall long a that beast youhere hi...\n",
       "2096  0  Before of divining. Raven fancy till token mor...\n",
       "2097  0  Lining as my did nepenthe much lenore by forge...\n",
       "2098  1  A charms his of childe him. Lowly one was befo...\n",
       "2099  0  Distant pondered me sought so there perched me...\n",
       "2100  1  Relief flee not and. Oh will shamed mine by wh...\n",
       "2101  0  Gloated just the shrieked lost morrow in my bo...\n",
       "2102  1  Aye girls had plain the deem to a. At monastic...\n",
       "2103  0  Above nevermore nothing no and chamber soul su...\n",
       "\n",
       "[2104 rows x 2 columns]>"
      ]
     },
     "execution_count": 119,
     "metadata": {},
     "output_type": "execute_result"
    }
   ],
   "source": [
    "df.head"
   ]
  },
  {
   "cell_type": "code",
   "execution_count": 121,
   "metadata": {
    "collapsed": false
   },
   "outputs": [
    {
     "name": "stdout",
     "output_type": "stream",
     "text": [
      "(2104, 787) 0.10165184244\n"
     ]
    }
   ],
   "source": [
    "vect = CountVectorizer()\n",
    "_ = vect.fit_transform(X)\n",
    "print (_.shape, _[0,:].mean())"
   ]
  },
  {
   "cell_type": "code",
   "execution_count": 122,
   "metadata": {
    "collapsed": false
   },
   "outputs": [
    {
     "name": "stdout",
     "output_type": "stream",
     "text": [
      "(2104, 787) 0.00888735628594\n"
     ]
    }
   ],
   "source": [
    "vect = TfidfVectorizer()\n",
    "_ = vect.fit_transform(X)\n",
    "print(_.shape, _[0,:].mean())"
   ]
  },
  {
   "cell_type": "code",
   "execution_count": 123,
   "metadata": {
    "collapsed": true
   },
   "outputs": [],
   "source": [
    "from sklearn.naive_bayes import MultinomialNB"
   ]
  },
  {
   "cell_type": "code",
   "execution_count": 124,
   "metadata": {
    "collapsed": false
   },
   "outputs": [
    {
     "data": {
      "text/plain": [
       "0    0.504278\n",
       "1    0.495722\n",
       "Name: Y, dtype: float64"
      ]
     },
     "execution_count": 124,
     "metadata": {},
     "output_type": "execute_result"
    }
   ],
   "source": [
    " y.value_counts(normalize=True)"
   ]
  },
  {
   "cell_type": "code",
   "execution_count": 133,
   "metadata": {
    "collapsed": false
   },
   "outputs": [],
   "source": [
    "from sklearn.pipeline import FeatureUnion\n",
    "from sklearn.pipeline import Pipeline\n",
    "from sklearn.grid_search import GridSearchCV"
   ]
  },
  {
   "cell_type": "code",
   "execution_count": 134,
   "metadata": {
    "collapsed": false
   },
   "outputs": [
    {
     "name": "stdout",
     "output_type": "stream",
     "text": [
      "1.0 {'vect__max_features': 1000, 'vect__stop_words': None, 'vect__ngram_range': (1, 1)}\n"
     ]
    }
   ],
   "source": [
    "# set our pipeline parameters\n",
    "pipe_params = {'vect__ngram_range':[(1, 1), (1, 2)], 'vect__max_features':[1000, 10000], 'vect__stop_words':[None, 'english']}\n",
    " \n",
    "# instantiate our pipeline\n",
    "pipe = Pipeline([('vect', CountVectorizer()), ('classify', MultinomialNB())])\n",
    " \n",
    "# instantiate our gridsearch object\n",
    "grid = GridSearchCV(pipe, pipe_params)\n",
    "# fit the gridsearch object\n",
    "grid.fit(X, y)\n",
    " \n",
    "# get our results\n",
    "print(grid.best_score_, grid.best_params_)"
   ]
  },
  {
   "cell_type": "code",
   "execution_count": 135,
   "metadata": {
    "collapsed": true
   },
   "outputs": [],
   "source": [
    "from sklearn.pipeline import FeatureUnion\n",
    "# build a separate featurizer object\n",
    "featurizer = FeatureUnion([('tfidf_vect', TfidfVectorizer()), ('count_vect', CountVectorizer())])"
   ]
  },
  {
   "cell_type": "code",
   "execution_count": 136,
   "metadata": {
    "collapsed": false
   },
   "outputs": [
    {
     "name": "stdout",
     "output_type": "stream",
     "text": [
      "(2104, 1574)\n"
     ]
    }
   ],
   "source": [
    "_ = featurizer.fit_transform(X)\n",
    "print(_.shape)"
   ]
  },
  {
   "cell_type": "code",
   "execution_count": 137,
   "metadata": {
    "collapsed": false
   },
   "outputs": [
    {
     "name": "stdout",
     "output_type": "stream",
     "text": [
      "(2104, 400)\n"
     ]
    }
   ],
   "source": [
    "featurizer.set_params(tfidf_vect__max_features=100, count_vect__ngram_range=(1, 2),\n",
    "count_vect__max_features=300)\n",
    "# the TfidfVectorizer will only keep 100 words while the CountVectorizer will keep 300 of 1 and 2 word phrases \n",
    "_ = featurizer.fit_transform(X)\n",
    "print(_.shape)"
   ]
  },
  {
   "cell_type": "code",
   "execution_count": 140,
   "metadata": {
    "collapsed": true
   },
   "outputs": [],
   "source": [
    "x_test = df['Text'].apply(remove_words)"
   ]
  },
  {
   "cell_type": "code",
   "execution_count": 142,
   "metadata": {
    "collapsed": false
   },
   "outputs": [
    {
     "name": "stdout",
     "output_type": "stream",
     "text": [
      "1.0 {'featurizer__count_vect__ngram_range': (1, 1), 'featurizer__count_vect__stop_words': None, 'featurizer__count_vect__max_features': 1000, 'featurizer__tfidf_vect__ngram_range': (1, 1), 'featurizer__tfidf_vect__stop_words': None, 'featurizer__tfidf_vect__max_features': 1000}\n"
     ]
    }
   ],
   "source": [
    "pipe_params = {'featurizer__count_vect__ngram_range':[(1, 1), (1, 2)], 'featurizer__count_vect__max_features':[1000, 10000], 'featurizer__count_vect__stop_words':[None, 'english'],\n",
    "'featurizer__tfidf_vect__ngram_range':[(1, 1), (1, 2)], 'featurizer__tfidf_vect__max_features':[1000, 10000], 'featurizer__tfidf_vect__stop_words':[None, 'english']}\n",
    "pipe = Pipeline([('featurizer', featurizer), ('classify', MultinomialNB())])\n",
    "grid = GridSearchCV(pipe, pipe_params)\n",
    "grid.fit(x_test, y)\n",
    "print(grid.best_score_, grid.best_params_)"
   ]
  },
  {
   "cell_type": "code",
   "execution_count": 143,
   "metadata": {
    "collapsed": false
   },
   "outputs": [
    {
     "data": {
      "text/plain": [
       "'But could then once pomp to nor that glee glorious of deigned. The vexed times childe none native. To he vast now in to sore nor flow and most fabled. The few tis to loved vexed and all yet yea childe. Fulness consecrate of it before his a a a that.Mirthful and and pangs wrong. Objects isle with partings ancient made was are. Childe and gild of all had to and ofttimes made soon from to long youth way condole sore.'"
      ]
     },
     "execution_count": 143,
     "metadata": {},
     "output_type": "execute_result"
    }
   ],
   "source": [
    "x_test[0]"
   ]
  },
  {
   "cell_type": "code",
   "execution_count": 155,
   "metadata": {
    "collapsed": false
   },
   "outputs": [
    {
     "data": {
      "text/plain": [
       "'Spam,<p>But could then once pomp to nor that glee glorious of deigned. The vexed times childe none native. To he vast now in to sore nor flow and most fabled. The few tis to loved vexed and all yet yea childe. Fulness consecrate of it before his a a a that.</p><p>Mirthful and and pangs wrong. Objects isle with partings ancient made was are. Childe and gild of all had to and ofttimes made soon from to long youth way condole sore.</p>\\n'"
      ]
     },
     "execution_count": 155,
     "metadata": {},
     "output_type": "execute_result"
    }
   ],
   "source": [
    "X[0]"
   ]
  },
  {
   "cell_type": "code",
   "execution_count": 144,
   "metadata": {
    "collapsed": true
   },
   "outputs": [],
   "source": [
    "from pandas import read_csv\n",
    "from sklearn.cross_validation import KFold\n",
    "from sklearn.cross_validation import cross_val_score\n",
    "from sklearn.preprocessing import StandardScaler\n",
    "from sklearn.pipeline import Pipeline\n",
    "from sklearn.discriminant_analysis import LinearDiscriminantAnalysis\n",
    "# load data\n"
   ]
  },
  {
   "cell_type": "code",
   "execution_count": 154,
   "metadata": {
    "collapsed": false
   },
   "outputs": [
    {
     "name": "stdout",
     "output_type": "stream",
     "text": [
      "0.999047619048\n"
     ]
    }
   ],
   "source": [
    "# url = \"https://goo.gl/vhm1eU\"\n",
    "# names=[preg, plas, pres, skin, test, mass, pedi, age, class] dataframe = read_csv(url, names=names)\n",
    "# array = dataframe.values\n",
    "# X = array[:,0:8]\n",
    "# Y = array[:,8]\n",
    "# create pipeline\n",
    "estimators = []\n",
    "estimators.append(( 'featurizer' , featurizer))\n",
    "estimators.append(( 'mnb' , MultinomialNB()))\n",
    "model = Pipeline(estimators)\n",
    "# evaluate pipeline\n",
    "num_folds = 10\n",
    "num_instances = len(X)\n",
    "seed = 7\n",
    "kfold = KFold(n=num_instances, n_folds=num_folds, random_state=seed)\n",
    "results = cross_val_score(model, x_test, y, cv=kfold)\n",
    "print(results.mean())"
   ]
  },
  {
   "cell_type": "code",
   "execution_count": null,
   "metadata": {
    "collapsed": true
   },
   "outputs": [],
   "source": [
    "X_train, X_test, Y_train, Y_test = cross_validation.train_test_split(X, Y,\n",
    "    test_size=test_size, random_state=seed)"
   ]
  }
 ],
 "metadata": {
  "anaconda-cloud": {},
  "kernelspec": {
   "display_name": "Python [conda env:Python3]",
   "language": "python",
   "name": "conda-env-Python3-py"
  },
  "language_info": {
   "codemirror_mode": {
    "name": "ipython",
    "version": 3
   },
   "file_extension": ".py",
   "mimetype": "text/x-python",
   "name": "python",
   "nbconvert_exporter": "python",
   "pygments_lexer": "ipython3",
   "version": "3.5.3"
  }
 },
 "nbformat": 4,
 "nbformat_minor": 1
}
