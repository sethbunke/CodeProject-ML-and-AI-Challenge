{
 "cells": [
  {
   "cell_type": "code",
   "execution_count": 1,
   "metadata": {
    "collapsed": false
   },
   "outputs": [
    {
     "name": "stderr",
     "output_type": "stream",
     "text": [
      "/Users/seth.bunke/anaconda/envs/Python3/lib/python3.5/site-packages/sklearn/cross_validation.py:44: DeprecationWarning: This module was deprecated in version 0.18 in favor of the model_selection module into which all the refactored classes and functions are moved. Also note that the interface of the new CV iterators are different from that of this module. This module will be removed in 0.20.\n",
      "  \"This module will be removed in 0.20.\", DeprecationWarning)\n",
      "/Users/seth.bunke/anaconda/envs/Python3/lib/python3.5/site-packages/sklearn/grid_search.py:43: DeprecationWarning: This module was deprecated in version 0.18 in favor of the model_selection module into which all the refactored classes and functions are moved. This module will be removed in 0.20.\n",
      "  DeprecationWarning)\n"
     ]
    }
   ],
   "source": [
    "from sklearn.feature_extraction.text import TfidfVectorizer\n",
    "from sklearn.feature_extraction.text import CountVectorizer\n",
    "import pandas as pd\n",
    "import csv\n",
    "import numpy as np\n",
    "from sklearn.feature_extraction.text import CountVectorizer\n",
    "from sklearn.pipeline import FeatureUnion\n",
    "from sklearn.pipeline import Pipeline\n",
    "from sklearn.grid_search import GridSearchCV\n",
    "from sklearn.cross_validation import KFold\n",
    "from sklearn.cross_validation import cross_val_score\n",
    "from sklearn.preprocessing import StandardScaler\n",
    "from sklearn.pipeline import Pipeline\n",
    "from sklearn.discriminant_analysis import LinearDiscriminantAnalysis\n",
    "from sklearn.utils import shuffle\n",
    "from sklearn.naive_bayes import MultinomialNB\n",
    "from sklearn.pipeline import FeatureUnion\n",
    "from sklearn.pipeline import Pipeline\n",
    "from sklearn.cross_validation import KFold\n",
    "from sklearn.cross_validation import cross_val_score\n",
    "from sklearn.cross_validation import train_test_split"
   ]
  },
  {
   "cell_type": "code",
   "execution_count": 2,
   "metadata": {
    "collapsed": true
   },
   "outputs": [],
   "source": [
    "\n",
    "import os\n",
    "import io\n",
    "import numpy\n",
    "from pandas import DataFrame\n",
    "from sklearn.feature_extraction.text import CountVectorizer\n",
    "from sklearn.naive_bayes import MultinomialNB"
   ]
  },
  {
   "cell_type": "code",
   "execution_count": 3,
   "metadata": {
    "collapsed": false
   },
   "outputs": [],
   "source": [
    "file_name = './SpamDetectionData.txt'\n",
    "rawdata = open(file_name, 'r')\n",
    "lines = rawdata.readlines()"
   ]
  },
  {
   "cell_type": "code",
   "execution_count": 11,
   "metadata": {
    "collapsed": true
   },
   "outputs": [],
   "source": [
    "lines = lines[1:] #get rid of \"header\""
   ]
  },
  {
   "cell_type": "code",
   "execution_count": 12,
   "metadata": {
    "collapsed": true
   },
   "outputs": [],
   "source": [
    "spam_indcator = 'Spam,<p>'"
   ]
  },
  {
   "cell_type": "code",
   "execution_count": 13,
   "metadata": {
    "collapsed": false
   },
   "outputs": [],
   "source": [
    "message_class = np.array(['spam' if spam_indcator in line else 'ham' for line in lines])"
   ]
  },
  {
   "cell_type": "code",
   "execution_count": 14,
   "metadata": {
    "collapsed": false
   },
   "outputs": [
    {
     "data": {
      "text/plain": [
       "array(['spam', 'spam', 'spam'], \n",
       "      dtype='<U4')"
      ]
     },
     "execution_count": 14,
     "metadata": {},
     "output_type": "execute_result"
    }
   ],
   "source": [
    "message_class[:3]"
   ]
  },
  {
   "cell_type": "code",
   "execution_count": 23,
   "metadata": {
    "collapsed": true
   },
   "outputs": [],
   "source": [
    "data = pd.DataFrame()\n",
    "data['class'] = message_class\n",
    "data['message'] = lines"
   ]
  },
  {
   "cell_type": "code",
   "execution_count": 24,
   "metadata": {
    "collapsed": false
   },
   "outputs": [
    {
     "data": {
      "text/plain": [
       "<bound method NDFrame.head of      class                                            message\n",
       "0     spam  Spam,<p>But could then once pomp to nor that g...\n",
       "1     spam  Spam,<p>His honeyed and land vile are so and n...\n",
       "2     spam  Spam,<p>Tear womans his was by had tis her ere...\n",
       "3     spam  Spam,<p>The that and land. Cell shun blazon pa...\n",
       "4     spam  Spam,<p>Sing aught through partings things was...\n",
       "5     spam  Spam,<p>He den blazon would did prose to he de...\n",
       "6     spam  Spam,<p>In land monastic had sadness will. Fou...\n",
       "7     spam  Spam,<p>Given to in now she. Were did moths mo...\n",
       "8     spam  Spam,<p>One unto hight lands sea at childe to ...\n",
       "9     spam  Spam,<p>What in ever men honeyed dote. Then th...\n",
       "10    spam  Spam,<p>But will aye alas mirthful begun said ...\n",
       "11    spam  Spam,<p>Day albions might thou prose or who wr...\n",
       "12    spam  Spam,<p>Upon he and or the his tis caught. But...\n",
       "13    spam  Spam,<p>Artless that or shell sighed drowsy no...\n",
       "14    spam  Spam,<p>Pillared oh the grace name gild throug...\n",
       "15    spam  Spam,<p>Ever cared earth wight if the he a. Fi...\n",
       "16    spam  Spam,<p>Scape eremites he flatterers and been ...\n",
       "17    spam  Spam,<p>Ere suffice not plain that maidens hou...\n",
       "18    spam  Spam,<p>Revel his lines condole awake in lay d...\n",
       "19    spam  Spam,<p>That ways day prose joyless superstiti...\n",
       "20    spam  Spam,<p>Riot he are was the in lineage girls p...\n",
       "21    spam  Spam,<p>So the love pangs partings thy fame al...\n",
       "22    spam  Spam,<p>Him ah he more things long from mine f...\n",
       "23    spam  Spam,<p>Sullen his scorching riot calm with su...\n",
       "24    spam  Spam,<p>Domestic adieu time left heart each gi...\n",
       "25    spam  Spam,<p>Him nor a ere day. And a pleasure or c...\n",
       "26    spam  Spam,<p>A pollution sighed was. To departed no...\n",
       "27    spam  Spam,<p>Chill tear drop of formed childe disap...\n",
       "28    spam  Spam,<p>Sore in thou one friends satiety he sa...\n",
       "29    spam  Spam,<p>Dear aught chill love can the loathed....\n",
       "...    ...                                                ...\n",
       "2074   ham  Ham,<p>Then more ah betook heart word i the. S...\n",
       "2075  spam  Spam,<p>Fabled strength the rill aisle. Flatte...\n",
       "2076   ham  Ham,<p>Nevermore just a of whose still mystery...\n",
       "2077   ham  Ham,<p>Napping chamber upon this saintly above...\n",
       "2078  spam  Spam,<p>Or to and. Goodly lowly youth his did ...\n",
       "2079   ham  Ham,<p>As darkness my desolate whom myself god...\n",
       "2080  spam  Spam,<p>Concubines nor harold and shameless de...\n",
       "2081  spam  Spam,<p>Me name relief had name ungodly his he...\n",
       "2082   ham  Ham,<p>As door hopes. And lady this and dream ...\n",
       "2083   ham  Ham,<p>At heart it laden chamber me more only ...\n",
       "2084  spam  Spam,<p>A favour what whilome within childe of...\n",
       "2085  spam  Spam,<p>From brow care of soils. Eros he for b...\n",
       "2086  spam  Spam,<p>Dote to he from uses artless ever they...\n",
       "2087   ham  Ham,<p>Wrought smiling door implore still terr...\n",
       "2088   ham  Ham,<p>Pondered of evilprophet. And the above ...\n",
       "2089   ham  Ham,<p>Of some heart stillness radiant now had...\n",
       "2090   ham  Ham,<p>Thy sainted still with nameless is we t...\n",
       "2091   ham  Ham,<p>Lenore sat by wondering marvelled thy o...\n",
       "2092   ham  Ham,<p>Gloated flutter said a more not flung v...\n",
       "2093   ham  Ham,<p>Stillness tapping thinking the with tin...\n",
       "2094  spam  Spam,<p>Of shades are of so objects so to from...\n",
       "2095   ham  Ham,<p>Spoken wore shall long a that beast you...\n",
       "2096   ham  Ham,<p>Before of divining. Raven fancy till to...\n",
       "2097   ham  Ham,<p>Lining as my did nepenthe much lenore b...\n",
       "2098  spam  Spam,<p>A charms his of childe him. Lowly one ...\n",
       "2099   ham  Ham,<p>Distant pondered me sought so there per...\n",
       "2100  spam  Spam,<p>Relief flee not and. Oh will shamed mi...\n",
       "2101   ham  Ham,<p>Gloated just the shrieked lost morrow i...\n",
       "2102  spam  Spam,<p>Aye girls had plain the deem to a. At ...\n",
       "2103   ham  Ham,<p>Above nevermore nothing no and chamber ...\n",
       "\n",
       "[2104 rows x 2 columns]>"
      ]
     },
     "execution_count": 24,
     "metadata": {},
     "output_type": "execute_result"
    }
   ],
   "source": [
    "data.head"
   ]
  },
  {
   "cell_type": "code",
   "execution_count": 25,
   "metadata": {
    "collapsed": true
   },
   "outputs": [],
   "source": [
    "words_to_remove = ['Ham,<p>', 'Spam,<p>', '<p>', '</p>', '\\n']"
   ]
  },
  {
   "cell_type": "code",
   "execution_count": 26,
   "metadata": {
    "collapsed": true
   },
   "outputs": [],
   "source": [
    "def remove_words(input_line, key_words=words_to_remove):\n",
    "    temp = input_line\n",
    "    for word in key_words:\n",
    "        temp = temp.replace(word, '')\n",
    "    return temp"
   ]
  },
  {
   "cell_type": "code",
   "execution_count": 27,
   "metadata": {
    "collapsed": true
   },
   "outputs": [],
   "source": [
    "data['message'] = data['message'].apply(remove_words)"
   ]
  },
  {
   "cell_type": "code",
   "execution_count": 28,
   "metadata": {
    "collapsed": false
   },
   "outputs": [
    {
     "data": {
      "text/plain": [
       "<bound method NDFrame.head of      class                                            message\n",
       "0     spam  But could then once pomp to nor that glee glor...\n",
       "1     spam  His honeyed and land vile are so and native fr...\n",
       "2     spam  Tear womans his was by had tis her eremites th...\n",
       "3     spam  The that and land. Cell shun blazon passion un...\n",
       "4     spam  Sing aught through partings things was sacred ...\n",
       "5     spam  He den blazon would did prose to he deigned wa...\n",
       "6     spam  In land monastic had sadness will. Found not m...\n",
       "7     spam  Given to in now she. Were did moths mood days ...\n",
       "8     spam  One unto hight lands sea at childe to this eve...\n",
       "9     spam  What in ever men honeyed dote. Then the aye wh...\n",
       "10    spam  But will aye alas mirthful begun said he suffi...\n",
       "11    spam  Day albions might thou prose or who wrong and ...\n",
       "12    spam  Upon he and or the his tis caught. But scorchi...\n",
       "13    spam  Artless that or shell sighed drowsy nor dear b...\n",
       "14    spam  Pillared oh the grace name gild through sore s...\n",
       "15    spam  Ever cared earth wight if the he a. Finds madd...\n",
       "16    spam  Scape eremites he flatterers and been and begu...\n",
       "17    spam  Ere suffice not plain that maidens hour fulnes...\n",
       "18    spam  Revel his lines condole awake in lay dwell at ...\n",
       "19    spam  That ways day prose joyless superstition flow ...\n",
       "20    spam  Riot he are was the in lineage girls passed in...\n",
       "21    spam  So the love pangs partings thy fame almost ee ...\n",
       "22    spam  Him ah he more things long from mine for. Unto...\n",
       "23    spam  Sullen his scorching riot calm with superstiti...\n",
       "24    spam  Domestic adieu time left heart each girls noon...\n",
       "25    spam  Him nor a ere day. And a pleasure or charms ob...\n",
       "26    spam  A pollution sighed was. To departed not upon h...\n",
       "27    spam  Chill tear drop of formed childe disappointed ...\n",
       "28    spam  Sore in thou one friends satiety he save not t...\n",
       "29    spam  Dear aught chill love can the loathed. Before ...\n",
       "...    ...                                                ...\n",
       "2074   ham  Then more ah betook heart word i the. Shutter ...\n",
       "2075  spam  Fabled strength the rill aisle. Flatterers to ...\n",
       "2076   ham  Nevermore just a of whose still mystery of hat...\n",
       "2077   ham  Napping chamber upon this saintly above i whos...\n",
       "2078  spam  Or to and. Goodly lowly youth his did seraphs ...\n",
       "2079   ham  As darkness my desolate whom myself god sat he...\n",
       "2080  spam  Concubines nor harold and shameless degree his...\n",
       "2081  spam  Me name relief had name ungodly his he him car...\n",
       "2082   ham  As door hopes. And lady this and dream the onl...\n",
       "2083   ham  At heart it laden chamber me more only is floo...\n",
       "2084  spam  A favour what whilome within childe of childe ...\n",
       "2085  spam  From brow care of soils. Eros he for by hour g...\n",
       "2086  spam  Dote to he from uses artless ever they though ...\n",
       "2087   ham  Wrought smiling door implore still terrors he ...\n",
       "2088   ham  Pondered of evilprophet. And the above door of...\n",
       "2089   ham  Of some heart stillness radiant now had chambe...\n",
       "2090   ham  Thy sainted still with nameless is we the temp...\n",
       "2091   ham  Lenore sat by wondering marvelled thy of. This...\n",
       "2092   ham  Gloated flutter said a more not flung velvet g...\n",
       "2093   ham  Stillness tapping thinking the with tinkled va...\n",
       "2094  spam  Of shades are of so objects so to from lurked ...\n",
       "2095   ham  Spoken wore shall long a that beast youhere hi...\n",
       "2096   ham  Before of divining. Raven fancy till token mor...\n",
       "2097   ham  Lining as my did nepenthe much lenore by forge...\n",
       "2098  spam  A charms his of childe him. Lowly one was befo...\n",
       "2099   ham  Distant pondered me sought so there perched me...\n",
       "2100  spam  Relief flee not and. Oh will shamed mine by wh...\n",
       "2101   ham  Gloated just the shrieked lost morrow in my bo...\n",
       "2102  spam  Aye girls had plain the deem to a. At monastic...\n",
       "2103   ham  Above nevermore nothing no and chamber soul su...\n",
       "\n",
       "[2104 rows x 2 columns]>"
      ]
     },
     "execution_count": 28,
     "metadata": {},
     "output_type": "execute_result"
    }
   ],
   "source": [
    "data.head"
   ]
  },
  {
   "cell_type": "code",
   "execution_count": 29,
   "metadata": {
    "collapsed": false
   },
   "outputs": [
    {
     "data": {
      "text/plain": [
       "MultinomialNB(alpha=1.0, class_prior=None, fit_prior=True)"
      ]
     },
     "execution_count": 29,
     "metadata": {},
     "output_type": "execute_result"
    }
   ],
   "source": [
    "vectorizer = CountVectorizer()\n",
    "counts = vectorizer.fit_transform(data['message'].values)\n",
    "\n",
    "classifier = MultinomialNB()\n",
    "targets = data['class'].values\n",
    "classifier.fit(counts, targets)"
   ]
  },
  {
   "cell_type": "code",
   "execution_count": 30,
   "metadata": {
    "collapsed": false
   },
   "outputs": [
    {
     "data": {
      "text/plain": [
       "array(['spam', 'ham'], \n",
       "      dtype='<U4')"
      ]
     },
     "execution_count": 30,
     "metadata": {},
     "output_type": "execute_result"
    }
   ],
   "source": [
    "examples = ['Free Viagra now!!!', \"Hi Bob, how about a game of golf tomorrow?\"]\n",
    "example_counts = vectorizer.transform(examples)\n",
    "predictions = classifier.predict(example_counts)\n",
    "predictions"
   ]
  },
  {
   "cell_type": "code",
   "execution_count": null,
   "metadata": {
    "collapsed": true
   },
   "outputs": [],
   "source": []
  },
  {
   "cell_type": "code",
   "execution_count": null,
   "metadata": {
    "collapsed": true
   },
   "outputs": [],
   "source": []
  },
  {
   "cell_type": "code",
   "execution_count": null,
   "metadata": {
    "collapsed": true
   },
   "outputs": [],
   "source": []
  },
  {
   "cell_type": "code",
   "execution_count": null,
   "metadata": {
    "collapsed": true
   },
   "outputs": [],
   "source": []
  },
  {
   "cell_type": "code",
   "execution_count": null,
   "metadata": {
    "collapsed": true
   },
   "outputs": [],
   "source": []
  },
  {
   "cell_type": "code",
   "execution_count": null,
   "metadata": {
    "collapsed": true
   },
   "outputs": [],
   "source": []
  },
  {
   "cell_type": "code",
   "execution_count": 5,
   "metadata": {
    "collapsed": false
   },
   "outputs": [
    {
     "data": {
      "text/plain": [
       "2105"
      ]
     },
     "execution_count": 5,
     "metadata": {},
     "output_type": "execute_result"
    }
   ],
   "source": [
    "len(lines)"
   ]
  },
  {
   "cell_type": "code",
   "execution_count": 6,
   "metadata": {
    "collapsed": false
   },
   "outputs": [],
   "source": []
  },
  {
   "cell_type": "code",
   "execution_count": 8,
   "metadata": {
    "collapsed": false
   },
   "outputs": [
    {
     "data": {
      "text/plain": [
       "'Spam,<p>But could then once pomp to nor that glee glorious of deigned. The vexed times childe none native. To he vast now in to sore nor flow and most fabled. The few tis to loved vexed and all yet yea childe. Fulness consecrate of it before his a a a that.</p><p>Mirthful and and pangs wrong. Objects isle with partings ancient made was are. Childe and gild of all had to and ofttimes made soon from to long youth way condole sore.</p>\\n'"
      ]
     },
     "execution_count": 8,
     "metadata": {},
     "output_type": "execute_result"
    }
   ],
   "source": [
    "lines[0]"
   ]
  },
  {
   "cell_type": "code",
   "execution_count": 23,
   "metadata": {
    "collapsed": true
   },
   "outputs": [],
   "source": [
    "spam_indcator = 'Spam,<p>'"
   ]
  },
  {
   "cell_type": "code",
   "execution_count": 24,
   "metadata": {
    "collapsed": false
   },
   "outputs": [],
   "source": [
    "# 1 is spam, 0 is ham\n",
    "y = np.array([1 if spam_indcator in line else 0 for line in lines])"
   ]
  },
  {
   "cell_type": "code",
   "execution_count": 59,
   "metadata": {
    "collapsed": false
   },
   "outputs": [
    {
     "data": {
      "text/plain": [
       "2104"
      ]
     },
     "execution_count": 59,
     "metadata": {},
     "output_type": "execute_result"
    }
   ],
   "source": [
    "len(y)"
   ]
  },
  {
   "cell_type": "code",
   "execution_count": 25,
   "metadata": {
    "collapsed": false
   },
   "outputs": [
    {
     "name": "stdout",
     "output_type": "stream",
     "text": [
      "Spam Count: 1043 Ham Count: 1061\n"
     ]
    }
   ],
   "source": [
    "print('Spam Count: ' + str(len(y[y == 1])) + ' Ham Count: ' + str(len(y[y == 0])))"
   ]
  },
  {
   "cell_type": "code",
   "execution_count": 26,
   "metadata": {
    "collapsed": true
   },
   "outputs": [],
   "source": [
    "df = pd.DataFrame()\n",
    "df['Y'] = y\n",
    "df['Text'] = lines"
   ]
  },
  {
   "cell_type": "code",
   "execution_count": 60,
   "metadata": {
    "collapsed": false
   },
   "outputs": [
    {
     "data": {
      "text/plain": [
       "(2104, 2)"
      ]
     },
     "execution_count": 60,
     "metadata": {},
     "output_type": "execute_result"
    }
   ],
   "source": [
    "df.shape"
   ]
  },
  {
   "cell_type": "code",
   "execution_count": 35,
   "metadata": {
    "collapsed": false
   },
   "outputs": [
    {
     "data": {
      "text/html": [
       "<div>\n",
       "<style>\n",
       "    .dataframe thead tr:only-child th {\n",
       "        text-align: right;\n",
       "    }\n",
       "\n",
       "    .dataframe thead th {\n",
       "        text-align: left;\n",
       "    }\n",
       "\n",
       "    .dataframe tbody tr th {\n",
       "        vertical-align: top;\n",
       "    }\n",
       "</style>\n",
       "<table border=\"1\" class=\"dataframe\">\n",
       "  <thead>\n",
       "    <tr style=\"text-align: right;\">\n",
       "      <th></th>\n",
       "      <th>Y</th>\n",
       "      <th>Text</th>\n",
       "    </tr>\n",
       "  </thead>\n",
       "  <tbody>\n",
       "    <tr>\n",
       "      <th>2099</th>\n",
       "      <td>0</td>\n",
       "      <td>Ham,&lt;p&gt;Distant pondered me sought so there per...</td>\n",
       "    </tr>\n",
       "    <tr>\n",
       "      <th>2100</th>\n",
       "      <td>1</td>\n",
       "      <td>Spam,&lt;p&gt;Relief flee not and. Oh will shamed mi...</td>\n",
       "    </tr>\n",
       "    <tr>\n",
       "      <th>2101</th>\n",
       "      <td>0</td>\n",
       "      <td>Ham,&lt;p&gt;Gloated just the shrieked lost morrow i...</td>\n",
       "    </tr>\n",
       "    <tr>\n",
       "      <th>2102</th>\n",
       "      <td>1</td>\n",
       "      <td>Spam,&lt;p&gt;Aye girls had plain the deem to a. At ...</td>\n",
       "    </tr>\n",
       "  </tbody>\n",
       "</table>\n",
       "</div>"
      ],
      "text/plain": [
       "      Y                                               Text\n",
       "2099  0  Ham,<p>Distant pondered me sought so there per...\n",
       "2100  1  Spam,<p>Relief flee not and. Oh will shamed mi...\n",
       "2101  0  Ham,<p>Gloated just the shrieked lost morrow i...\n",
       "2102  1  Spam,<p>Aye girls had plain the deem to a. At ..."
      ]
     },
     "execution_count": 35,
     "metadata": {},
     "output_type": "execute_result"
    }
   ],
   "source": [
    "df[-5:-1]"
   ]
  },
  {
   "cell_type": "code",
   "execution_count": 28,
   "metadata": {
    "collapsed": false
   },
   "outputs": [],
   "source": [
    "words_to_remove = ['Ham,<p>', 'Spam,<p>', '<p>', '</p>', '\\n']"
   ]
  },
  {
   "cell_type": "code",
   "execution_count": 29,
   "metadata": {
    "collapsed": false
   },
   "outputs": [],
   "source": [
    "def remove_words(input_line, key_words=words_to_remove):\n",
    "    temp = input_line\n",
    "    for word in key_words:\n",
    "        temp = temp.replace(word, '')\n",
    "    return temp"
   ]
  },
  {
   "cell_type": "code",
   "execution_count": 61,
   "metadata": {
    "collapsed": true
   },
   "outputs": [],
   "source": [
    "lines_shuffled, y_shuffled = shuffle(lines, y, random_state=0)"
   ]
  },
  {
   "cell_type": "code",
   "execution_count": 62,
   "metadata": {
    "collapsed": true
   },
   "outputs": [],
   "source": [
    "df = pd.DataFrame()"
   ]
  },
  {
   "cell_type": "code",
   "execution_count": 63,
   "metadata": {
    "collapsed": false
   },
   "outputs": [],
   "source": [
    "df['Y'] = y_shuffled\n",
    "df['Text'] = lines_shuffled"
   ]
  },
  {
   "cell_type": "code",
   "execution_count": 64,
   "metadata": {
    "collapsed": false
   },
   "outputs": [
    {
     "data": {
      "text/plain": [
       "(2104, 2)"
      ]
     },
     "execution_count": 64,
     "metadata": {},
     "output_type": "execute_result"
    }
   ],
   "source": [
    "df.shape"
   ]
  },
  {
   "cell_type": "code",
   "execution_count": 65,
   "metadata": {
    "collapsed": false
   },
   "outputs": [
    {
     "data": {
      "text/html": [
       "<div>\n",
       "<style>\n",
       "    .dataframe thead tr:only-child th {\n",
       "        text-align: right;\n",
       "    }\n",
       "\n",
       "    .dataframe thead th {\n",
       "        text-align: left;\n",
       "    }\n",
       "\n",
       "    .dataframe tbody tr th {\n",
       "        vertical-align: top;\n",
       "    }\n",
       "</style>\n",
       "<table border=\"1\" class=\"dataframe\">\n",
       "  <thead>\n",
       "    <tr style=\"text-align: right;\">\n",
       "      <th></th>\n",
       "      <th>Y</th>\n",
       "      <th>Text</th>\n",
       "    </tr>\n",
       "  </thead>\n",
       "  <tbody>\n",
       "    <tr>\n",
       "      <th>0</th>\n",
       "      <td>0</td>\n",
       "      <td>Ham,&lt;p&gt;This still sad chamber a of a he meanin...</td>\n",
       "    </tr>\n",
       "    <tr>\n",
       "      <th>1</th>\n",
       "      <td>0</td>\n",
       "      <td>Ham,&lt;p&gt;Form dreams living i mien of bust is bl...</td>\n",
       "    </tr>\n",
       "    <tr>\n",
       "      <th>2</th>\n",
       "      <td>0</td>\n",
       "      <td>Ham,&lt;p&gt;But is the i quoth footfalls and i recl...</td>\n",
       "    </tr>\n",
       "    <tr>\n",
       "      <th>3</th>\n",
       "      <td>1</td>\n",
       "      <td>Spam,&lt;p&gt;Pangs amiss were in. Noontide and favo...</td>\n",
       "    </tr>\n",
       "    <tr>\n",
       "      <th>4</th>\n",
       "      <td>1</td>\n",
       "      <td>Spam,&lt;p&gt;Nor he cared mirthful in loathed dispo...</td>\n",
       "    </tr>\n",
       "  </tbody>\n",
       "</table>\n",
       "</div>"
      ],
      "text/plain": [
       "   Y                                               Text\n",
       "0  0  Ham,<p>This still sad chamber a of a he meanin...\n",
       "1  0  Ham,<p>Form dreams living i mien of bust is bl...\n",
       "2  0  Ham,<p>But is the i quoth footfalls and i recl...\n",
       "3  1  Spam,<p>Pangs amiss were in. Noontide and favo...\n",
       "4  1  Spam,<p>Nor he cared mirthful in loathed dispo..."
      ]
     },
     "execution_count": 65,
     "metadata": {},
     "output_type": "execute_result"
    }
   ],
   "source": [
    "df.head(5)"
   ]
  },
  {
   "cell_type": "code",
   "execution_count": 66,
   "metadata": {
    "collapsed": true
   },
   "outputs": [],
   "source": [
    "X = df['Text']\n",
    "y = df['Y']"
   ]
  },
  {
   "cell_type": "code",
   "execution_count": 67,
   "metadata": {
    "collapsed": false
   },
   "outputs": [],
   "source": [
    "df['Text'] = df['Text'].apply(remove_words)"
   ]
  },
  {
   "cell_type": "code",
   "execution_count": 68,
   "metadata": {
    "collapsed": false
   },
   "outputs": [
    {
     "data": {
      "text/plain": [
       "(2104, 2)"
      ]
     },
     "execution_count": 68,
     "metadata": {},
     "output_type": "execute_result"
    }
   ],
   "source": [
    "df.shape"
   ]
  },
  {
   "cell_type": "code",
   "execution_count": 69,
   "metadata": {
    "collapsed": false
   },
   "outputs": [
    {
     "data": {
      "text/html": [
       "<div>\n",
       "<style>\n",
       "    .dataframe thead tr:only-child th {\n",
       "        text-align: right;\n",
       "    }\n",
       "\n",
       "    .dataframe thead th {\n",
       "        text-align: left;\n",
       "    }\n",
       "\n",
       "    .dataframe tbody tr th {\n",
       "        vertical-align: top;\n",
       "    }\n",
       "</style>\n",
       "<table border=\"1\" class=\"dataframe\">\n",
       "  <thead>\n",
       "    <tr style=\"text-align: right;\">\n",
       "      <th></th>\n",
       "      <th>Y</th>\n",
       "      <th>Text</th>\n",
       "    </tr>\n",
       "  </thead>\n",
       "  <tbody>\n",
       "    <tr>\n",
       "      <th>0</th>\n",
       "      <td>0</td>\n",
       "      <td>This still sad chamber a of a he meaninglittle...</td>\n",
       "    </tr>\n",
       "    <tr>\n",
       "      <th>1</th>\n",
       "      <td>0</td>\n",
       "      <td>Form dreams living i mien of bust is bleak not...</td>\n",
       "    </tr>\n",
       "    <tr>\n",
       "      <th>2</th>\n",
       "      <td>0</td>\n",
       "      <td>But is the i quoth footfalls and i reclining w...</td>\n",
       "    </tr>\n",
       "    <tr>\n",
       "      <th>3</th>\n",
       "      <td>1</td>\n",
       "      <td>Pangs amiss were in. Noontide and favour suffi...</td>\n",
       "    </tr>\n",
       "    <tr>\n",
       "      <th>4</th>\n",
       "      <td>1</td>\n",
       "      <td>Nor he cared mirthful in loathed disporting be...</td>\n",
       "    </tr>\n",
       "  </tbody>\n",
       "</table>\n",
       "</div>"
      ],
      "text/plain": [
       "   Y                                               Text\n",
       "0  0  This still sad chamber a of a he meaninglittle...\n",
       "1  0  Form dreams living i mien of bust is bleak not...\n",
       "2  0  But is the i quoth footfalls and i reclining w...\n",
       "3  1  Pangs amiss were in. Noontide and favour suffi...\n",
       "4  1  Nor he cared mirthful in loathed disporting be..."
      ]
     },
     "execution_count": 69,
     "metadata": {},
     "output_type": "execute_result"
    }
   ],
   "source": [
    "df.head(5)"
   ]
  },
  {
   "cell_type": "code",
   "execution_count": 70,
   "metadata": {
    "collapsed": false
   },
   "outputs": [
    {
     "data": {
      "text/plain": [
       "2104"
      ]
     },
     "execution_count": 70,
     "metadata": {},
     "output_type": "execute_result"
    }
   ],
   "source": [
    "len(y)"
   ]
  },
  {
   "cell_type": "code",
   "execution_count": 71,
   "metadata": {
    "collapsed": false
   },
   "outputs": [],
   "source": [
    "test_size = .33\n",
    "seed = 42\n",
    "\n",
    "X_train, X_test, Y_train, Y_test = train_test_split(X, y, test_size=test_size, random_state=seed)"
   ]
  },
  {
   "cell_type": "code",
   "execution_count": 73,
   "metadata": {
    "collapsed": false
   },
   "outputs": [
    {
     "data": {
      "text/plain": [
       "695"
      ]
     },
     "execution_count": 73,
     "metadata": {},
     "output_type": "execute_result"
    }
   ],
   "source": [
    "len(X_test)"
   ]
  },
  {
   "cell_type": "code",
   "execution_count": 74,
   "metadata": {
    "collapsed": true
   },
   "outputs": [],
   "source": [
    "# build a separate featurizer object\n",
    "featurizer = FeatureUnion([('tfidf_vect', TfidfVectorizer()), ('count_vect', CountVectorizer())])"
   ]
  },
  {
   "cell_type": "code",
   "execution_count": 75,
   "metadata": {
    "collapsed": false
   },
   "outputs": [],
   "source": [
    "pipe = []\n",
    "pipe.append(( 'featurizer' , featurizer))\n",
    "pipe.append(( 'mnb' , MultinomialNB()))\n",
    "model = Pipeline(pipe)"
   ]
  },
  {
   "cell_type": "code",
   "execution_count": 77,
   "metadata": {
    "collapsed": false
   },
   "outputs": [
    {
     "name": "stdout",
     "output_type": "stream",
     "text": [
      "1.0\n"
     ]
    }
   ],
   "source": [
    "# evaluate pipeline\n",
    "num_folds = 10\n",
    "num_instances = len(X_test)\n",
    "seed = 7\n",
    "kfold = KFold(n=num_instances, n_folds=num_folds, random_state=seed)\n",
    "results = cross_val_score(model, X_test, Y_test, cv=kfold)\n",
    "print(results.mean())"
   ]
  },
  {
   "cell_type": "code",
   "execution_count": 78,
   "metadata": {
    "collapsed": false
   },
   "outputs": [
    {
     "ename": "ValueError",
     "evalue": "could not convert string to float: 'Hill or kiss worse now his to ways whose calm calm of nor. Longed superstition mine me in sins me. He along for grace calm ungodly alone. Sing sought but bidding come alone tis. Control not was not woe. Grief save nor alas noontide did. Rill come sick dwell sought. Lurked are he long almost the sight and along where. To memory in her many sore that een was other not evil. Thy womans he lay was to festal more parting sad grief deeds seemed he thy fulness. Did feeble rhyme bidding finds he this day strength. Nor which grace ah to. Massy wight brow before shell he seemed longdeserted sore superstition might ere strength. Her mood say. Harold are in thou save florid he. Dear mother awake would far day dear in none many might sacred before his happy say his. Sad ah his seek one mine. He one to for each a ah and that suffice pangs objects.Nine felt not or harold his in his say did counsel eremites who later strange but dwell. Yet by deemed fondly lyres ways whilome happy his like a in feud in. Dwell sore mote. Basked but made lone and and would him one muse when been objects none. His but the. Blast and wassailers delphis. Childe womans mirthful time congealed of longed light fall go mote. More pillared in his deigned other and that her many youth mirth agen sun was in that haply. A might things grace heart himnot dear time despair but drop them amiss that ways his childe. Uses heartless peace him to deemed moths cared and fondly perchance yea on none. Wrong have sad lineage apart a of dome wandered his hellas begun seek these his go that from. Sighed that his sought hill ungodly name but prose and mine rill cell none friends harolds control.'",
     "output_type": "error",
     "traceback": [
      "\u001b[0;31m---------------------------------------------------------------------------\u001b[0m",
      "\u001b[0;31mValueError\u001b[0m                                Traceback (most recent call last)",
      "\u001b[0;32m<ipython-input-78-a552f7785dc0>\u001b[0m in \u001b[0;36m<module>\u001b[0;34m()\u001b[0m\n\u001b[1;32m      1\u001b[0m \u001b[0mmodel\u001b[0m \u001b[0;34m=\u001b[0m \u001b[0mMultinomialNB\u001b[0m\u001b[0;34m(\u001b[0m\u001b[0;34m)\u001b[0m\u001b[0;34m\u001b[0m\u001b[0m\n\u001b[0;32m----> 2\u001b[0;31m \u001b[0mmodel\u001b[0m\u001b[0;34m.\u001b[0m\u001b[0mfit\u001b[0m\u001b[0;34m(\u001b[0m\u001b[0mX_train\u001b[0m\u001b[0;34m,\u001b[0m \u001b[0mY_train\u001b[0m\u001b[0;34m)\u001b[0m\u001b[0;34m\u001b[0m\u001b[0m\n\u001b[0m\u001b[1;32m      3\u001b[0m \u001b[0mresult\u001b[0m \u001b[0;34m=\u001b[0m \u001b[0mmodel\u001b[0m\u001b[0;34m.\u001b[0m\u001b[0mscore\u001b[0m\u001b[0;34m(\u001b[0m\u001b[0mX_test\u001b[0m\u001b[0;34m,\u001b[0m \u001b[0mY_test\u001b[0m\u001b[0;34m)\u001b[0m\u001b[0;34m\u001b[0m\u001b[0m\n\u001b[1;32m      4\u001b[0m \u001b[0mprint\u001b[0m\u001b[0;34m(\u001b[0m\u001b[0;34m\"Accuracy: %.3f%%\"\u001b[0m\u001b[0;34m)\u001b[0m \u001b[0;34m%\u001b[0m \u001b[0;34m(\u001b[0m\u001b[0mresult\u001b[0m\u001b[0;34m*\u001b[0m\u001b[0;36m100.0\u001b[0m\u001b[0;34m)\u001b[0m\u001b[0;34m\u001b[0m\u001b[0m\n",
      "\u001b[0;32m~/anaconda/envs/Python3/lib/python3.5/site-packages/sklearn/naive_bayes.py\u001b[0m in \u001b[0;36mfit\u001b[0;34m(self, X, y, sample_weight)\u001b[0m\n\u001b[1;32m    560\u001b[0m             \u001b[0mReturns\u001b[0m \u001b[0mself\u001b[0m\u001b[0;34m.\u001b[0m\u001b[0;34m\u001b[0m\u001b[0m\n\u001b[1;32m    561\u001b[0m         \"\"\"\n\u001b[0;32m--> 562\u001b[0;31m         \u001b[0mX\u001b[0m\u001b[0;34m,\u001b[0m \u001b[0my\u001b[0m \u001b[0;34m=\u001b[0m \u001b[0mcheck_X_y\u001b[0m\u001b[0;34m(\u001b[0m\u001b[0mX\u001b[0m\u001b[0;34m,\u001b[0m \u001b[0my\u001b[0m\u001b[0;34m,\u001b[0m \u001b[0;34m'csr'\u001b[0m\u001b[0;34m)\u001b[0m\u001b[0;34m\u001b[0m\u001b[0m\n\u001b[0m\u001b[1;32m    563\u001b[0m         \u001b[0m_\u001b[0m\u001b[0;34m,\u001b[0m \u001b[0mn_features\u001b[0m \u001b[0;34m=\u001b[0m \u001b[0mX\u001b[0m\u001b[0;34m.\u001b[0m\u001b[0mshape\u001b[0m\u001b[0;34m\u001b[0m\u001b[0m\n\u001b[1;32m    564\u001b[0m \u001b[0;34m\u001b[0m\u001b[0m\n",
      "\u001b[0;32m~/anaconda/envs/Python3/lib/python3.5/site-packages/sklearn/utils/validation.py\u001b[0m in \u001b[0;36mcheck_X_y\u001b[0;34m(X, y, accept_sparse, dtype, order, copy, force_all_finite, ensure_2d, allow_nd, multi_output, ensure_min_samples, ensure_min_features, y_numeric, warn_on_dtype, estimator)\u001b[0m\n\u001b[1;32m    519\u001b[0m     X = check_array(X, accept_sparse, dtype, order, copy, force_all_finite,\n\u001b[1;32m    520\u001b[0m                     \u001b[0mensure_2d\u001b[0m\u001b[0;34m,\u001b[0m \u001b[0mallow_nd\u001b[0m\u001b[0;34m,\u001b[0m \u001b[0mensure_min_samples\u001b[0m\u001b[0;34m,\u001b[0m\u001b[0;34m\u001b[0m\u001b[0m\n\u001b[0;32m--> 521\u001b[0;31m                     ensure_min_features, warn_on_dtype, estimator)\n\u001b[0m\u001b[1;32m    522\u001b[0m     \u001b[0;32mif\u001b[0m \u001b[0mmulti_output\u001b[0m\u001b[0;34m:\u001b[0m\u001b[0;34m\u001b[0m\u001b[0m\n\u001b[1;32m    523\u001b[0m         y = check_array(y, 'csr', force_all_finite=True, ensure_2d=False,\n",
      "\u001b[0;32m~/anaconda/envs/Python3/lib/python3.5/site-packages/sklearn/utils/validation.py\u001b[0m in \u001b[0;36mcheck_array\u001b[0;34m(array, accept_sparse, dtype, order, copy, force_all_finite, ensure_2d, allow_nd, ensure_min_samples, ensure_min_features, warn_on_dtype, estimator)\u001b[0m\n\u001b[1;32m    380\u001b[0m                                       force_all_finite)\n\u001b[1;32m    381\u001b[0m     \u001b[0;32melse\u001b[0m\u001b[0;34m:\u001b[0m\u001b[0;34m\u001b[0m\u001b[0m\n\u001b[0;32m--> 382\u001b[0;31m         \u001b[0marray\u001b[0m \u001b[0;34m=\u001b[0m \u001b[0mnp\u001b[0m\u001b[0;34m.\u001b[0m\u001b[0marray\u001b[0m\u001b[0;34m(\u001b[0m\u001b[0marray\u001b[0m\u001b[0;34m,\u001b[0m \u001b[0mdtype\u001b[0m\u001b[0;34m=\u001b[0m\u001b[0mdtype\u001b[0m\u001b[0;34m,\u001b[0m \u001b[0morder\u001b[0m\u001b[0;34m=\u001b[0m\u001b[0morder\u001b[0m\u001b[0;34m,\u001b[0m \u001b[0mcopy\u001b[0m\u001b[0;34m=\u001b[0m\u001b[0mcopy\u001b[0m\u001b[0;34m)\u001b[0m\u001b[0;34m\u001b[0m\u001b[0m\n\u001b[0m\u001b[1;32m    383\u001b[0m \u001b[0;34m\u001b[0m\u001b[0m\n\u001b[1;32m    384\u001b[0m         \u001b[0;32mif\u001b[0m \u001b[0mensure_2d\u001b[0m\u001b[0;34m:\u001b[0m\u001b[0;34m\u001b[0m\u001b[0m\n",
      "\u001b[0;31mValueError\u001b[0m: could not convert string to float: 'Hill or kiss worse now his to ways whose calm calm of nor. Longed superstition mine me in sins me. He along for grace calm ungodly alone. Sing sought but bidding come alone tis. Control not was not woe. Grief save nor alas noontide did. Rill come sick dwell sought. Lurked are he long almost the sight and along where. To memory in her many sore that een was other not evil. Thy womans he lay was to festal more parting sad grief deeds seemed he thy fulness. Did feeble rhyme bidding finds he this day strength. Nor which grace ah to. Massy wight brow before shell he seemed longdeserted sore superstition might ere strength. Her mood say. Harold are in thou save florid he. Dear mother awake would far day dear in none many might sacred before his happy say his. Sad ah his seek one mine. He one to for each a ah and that suffice pangs objects.Nine felt not or harold his in his say did counsel eremites who later strange but dwell. Yet by deemed fondly lyres ways whilome happy his like a in feud in. Dwell sore mote. Basked but made lone and and would him one muse when been objects none. His but the. Blast and wassailers delphis. Childe womans mirthful time congealed of longed light fall go mote. More pillared in his deigned other and that her many youth mirth agen sun was in that haply. A might things grace heart himnot dear time despair but drop them amiss that ways his childe. Uses heartless peace him to deemed moths cared and fondly perchance yea on none. Wrong have sad lineage apart a of dome wandered his hellas begun seek these his go that from. Sighed that his sought hill ungodly name but prose and mine rill cell none friends harolds control.'"
     ]
    }
   ],
   "source": [
    "model = MultinomialNB()\n",
    "model.fit(X_train, Y_train)\n",
    "result = model.score(X_test, Y_test)\n",
    "print(\"Accuracy: %.3f%%\") % (result*100.0)"
   ]
  },
  {
   "cell_type": "code",
   "execution_count": null,
   "metadata": {
    "collapsed": true
   },
   "outputs": [],
   "source": []
  }
 ],
 "metadata": {
  "anaconda-cloud": {},
  "kernelspec": {
   "display_name": "Python [conda env:Python3]",
   "language": "python",
   "name": "conda-env-Python3-py"
  },
  "language_info": {
   "codemirror_mode": {
    "name": "ipython",
    "version": 3
   },
   "file_extension": ".py",
   "mimetype": "text/x-python",
   "name": "python",
   "nbconvert_exporter": "python",
   "pygments_lexer": "ipython3",
   "version": "3.5.3"
  }
 },
 "nbformat": 4,
 "nbformat_minor": 1
}
