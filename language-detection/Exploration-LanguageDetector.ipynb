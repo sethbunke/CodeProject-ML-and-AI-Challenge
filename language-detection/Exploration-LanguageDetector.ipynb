{
 "cells": [
  {
   "cell_type": "code",
   "execution_count": 1,
   "metadata": {
    "collapsed": true
   },
   "outputs": [],
   "source": [
    "import pandas as pd\n",
    "import numpy as np\n",
    "\n",
    "from sklearn.feature_extraction.text import TfidfVectorizer\n",
    "from sklearn.feature_extraction.text import CountVectorizer\n",
    "from sklearn.linear_model.logistic import LogisticRegression\n",
    "from sklearn.ensemble import RandomForestClassifier\n",
    "from sklearn.svm import LinearSVC\n",
    "from sklearn.tree import DecisionTreeClassifier\n",
    "\n",
    "from sklearn.model_selection import train_test_split, cross_val_score\n",
    "from sklearn.utils import shuffle\n",
    "from sklearn.metrics import precision_score, classification_report, accuracy_score\n",
    "\n",
    "from sklearn.pipeline import FeatureUnion"
   ]
  },
  {
   "cell_type": "code",
   "execution_count": 2,
   "metadata": {
    "collapsed": true
   },
   "outputs": [],
   "source": [
    "def get_data():\n",
    "    file_name = './LanguageSamples.txt'\n",
    "    rawdata = open(file_name, 'r')\n",
    "    lines = rawdata.readlines()\n",
    "    return lines\n",
    "#     lines = lines[1:] #get rid of \"header\"\n",
    "#     spam_train = lines[0:1000]\n",
    "#     ham_train = lines[1002:2002]\n",
    "#     test_mix = lines[2004:]\n",
    "#     return (spam_train, ham_train, test_mix)"
   ]
  },
  {
   "cell_type": "code",
   "execution_count": 3,
   "metadata": {
    "collapsed": true
   },
   "outputs": [],
   "source": [
    "data_lines = get_data()"
   ]
  },
  {
   "cell_type": "code",
   "execution_count": 8,
   "metadata": {
    "collapsed": false
   },
   "outputs": [
    {
     "data": {
      "text/plain": [
       "['\\ufeff  <pre lang=\"XML\">\\n',\n",
       " '&lt;?xml version=\"1.0\"?&gt;\\n',\n",
       " '&lt;DevelopmentStorage xmlns:xsd=\"http://www.w3.org/2001/XMLSchema\" xmlns:xsi=\"http://www.w3.org/2001/XMLSchema-instance\" version=\"2009-03-18\"&gt;\\n',\n",
       " '  &lt;SQLInstance&gt;(localdb)\\\\v11.0&lt;/SQLInstance&gt;\\n',\n",
       " '  &lt;PageBlobRoot&gt;C:\\\\Users\\\\Carl\\\\AppData\\\\Local\\\\DevelopmentStorage\\\\PageBlobRoot&lt;/PageBlobRoot&gt;\\n',\n",
       " '  &lt;BlockBlobRoot&gt;C:\\\\Users\\\\Carl\\\\AppData\\\\Local\\\\DevelopmentStorage\\\\BlockBlobRoot&lt;/BlockBlobRoot&gt;\\n',\n",
       " '  &lt;LogPath&gt;C:\\\\Users\\\\Carl\\\\AppData\\\\Local\\\\DevelopmentStorage\\\\Logs&lt;/LogPath&gt;\\n',\n",
       " '  &lt;LoggingEnabled&gt;false&lt;/LoggingEnabled&gt;\\n',\n",
       " '&lt;/DevelopmentStorage&gt;</pre>\\n',\n",
       " '\\n',\n",
       " '\\n',\n",
       " '\\n',\n",
       " '<pre lang=\"Swift\">\\n']"
      ]
     },
     "execution_count": 8,
     "metadata": {},
     "output_type": "execute_result"
    }
   ],
   "source": [
    "data_lines[0:13]"
   ]
  },
  {
   "cell_type": "code",
   "execution_count": null,
   "metadata": {
    "collapsed": true
   },
   "outputs": [],
   "source": [
    "#read it all in as a string, split it on <pre; replae \\n with ' ' replace &lt $gt with < > \n",
    "#get rid of \\n lines"
   ]
  }
 ],
 "metadata": {
  "anaconda-cloud": {},
  "kernelspec": {
   "display_name": "Python [conda env:Python3]",
   "language": "python",
   "name": "conda-env-Python3-py"
  },
  "language_info": {
   "codemirror_mode": {
    "name": "ipython",
    "version": 3
   },
   "file_extension": ".py",
   "mimetype": "text/x-python",
   "name": "python",
   "nbconvert_exporter": "python",
   "pygments_lexer": "ipython3",
   "version": "3.5.3"
  }
 },
 "nbformat": 4,
 "nbformat_minor": 1
}
