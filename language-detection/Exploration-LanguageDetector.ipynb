{
 "cells": [
  {
   "cell_type": "code",
   "execution_count": 1,
   "metadata": {
    "collapsed": true
   },
   "outputs": [],
   "source": [
    "import pandas as pd\n",
    "import numpy as np\n",
    "\n",
    "from sklearn.feature_extraction.text import TfidfVectorizer\n",
    "from sklearn.feature_extraction.text import CountVectorizer\n",
    "from sklearn.linear_model.logistic import LogisticRegression\n",
    "from sklearn.ensemble import RandomForestClassifier\n",
    "from sklearn.svm import LinearSVC\n",
    "from sklearn.tree import DecisionTreeClassifier\n",
    "\n",
    "from sklearn.model_selection import train_test_split, cross_val_score\n",
    "from sklearn.utils import shuffle\n",
    "from sklearn.metrics import precision_score, classification_report, accuracy_score\n",
    "\n",
    "from sklearn.pipeline import FeatureUnion"
   ]
  },
  {
   "cell_type": "code",
   "execution_count": 2,
   "metadata": {
    "collapsed": true
   },
   "outputs": [],
   "source": [
    "def get_data():\n",
    "    file_name = './LanguageSamples.txt'\n",
    "    rawdata = open(file_name, 'r')\n",
    "    lines = rawdata.readlines()\n",
    "    return lines\n",
    "#     lines = lines[1:] #get rid of \"header\"\n",
    "#     spam_train = lines[0:1000]\n",
    "#     ham_train = lines[1002:2002]\n",
    "#     test_mix = lines[2004:]\n",
    "#     return (spam_train, ham_train, test_mix)"
   ]
  },
  {
   "cell_type": "code",
   "execution_count": 3,
   "metadata": {
    "collapsed": true
   },
   "outputs": [],
   "source": [
    "data_lines = get_data()"
   ]
  },
  {
   "cell_type": "code",
   "execution_count": 8,
   "metadata": {
    "collapsed": false
   },
   "outputs": [
    {
     "data": {
      "text/plain": [
       "['\\ufeff  <pre lang=\"XML\">\\n',\n",
       " '&lt;?xml version=\"1.0\"?&gt;\\n',\n",
       " '&lt;DevelopmentStorage xmlns:xsd=\"http://www.w3.org/2001/XMLSchema\" xmlns:xsi=\"http://www.w3.org/2001/XMLSchema-instance\" version=\"2009-03-18\"&gt;\\n',\n",
       " '  &lt;SQLInstance&gt;(localdb)\\\\v11.0&lt;/SQLInstance&gt;\\n',\n",
       " '  &lt;PageBlobRoot&gt;C:\\\\Users\\\\Carl\\\\AppData\\\\Local\\\\DevelopmentStorage\\\\PageBlobRoot&lt;/PageBlobRoot&gt;\\n',\n",
       " '  &lt;BlockBlobRoot&gt;C:\\\\Users\\\\Carl\\\\AppData\\\\Local\\\\DevelopmentStorage\\\\BlockBlobRoot&lt;/BlockBlobRoot&gt;\\n',\n",
       " '  &lt;LogPath&gt;C:\\\\Users\\\\Carl\\\\AppData\\\\Local\\\\DevelopmentStorage\\\\Logs&lt;/LogPath&gt;\\n',\n",
       " '  &lt;LoggingEnabled&gt;false&lt;/LoggingEnabled&gt;\\n',\n",
       " '&lt;/DevelopmentStorage&gt;</pre>\\n',\n",
       " '\\n',\n",
       " '\\n',\n",
       " '\\n',\n",
       " '<pre lang=\"Swift\">\\n']"
      ]
     },
     "execution_count": 8,
     "metadata": {},
     "output_type": "execute_result"
    }
   ],
   "source": [
    "data_lines[0:13]"
   ]
  },
  {
   "cell_type": "code",
   "execution_count": null,
   "metadata": {
    "collapsed": true
   },
   "outputs": [],
   "source": [
    "#read it all in as a string, split it on <pre; replae \\n with ' ' replace &lt $gt with < > \n",
    "#get rid of \\n lines"
   ]
  },
  {
   "cell_type": "code",
   "execution_count": null,
   "metadata": {
    "collapsed": true
   },
   "outputs": [],
   "source": [
    "# for birds - one hot encoding the tags"
   ]
  },
  {
   "cell_type": "code",
   "execution_count": null,
   "metadata": {
    "collapsed": true
   },
   "outputs": [],
   "source": [
    "/<pre\\s?(.*)>(.*)<\\/pre>/"
   ]
  },
  {
   "cell_type": "code",
   "execution_count": null,
   "metadata": {
    "collapsed": true
   },
   "outputs": [],
   "source": [
    "#this works\n",
    "<pre[\\s\\S]*?<\\/pre>"
   ]
  },
  {
   "cell_type": "code",
   "execution_count": 9,
   "metadata": {
    "collapsed": true
   },
   "outputs": [],
   "source": [
    "import re"
   ]
  },
  {
   "cell_type": "code",
   "execution_count": 34,
   "metadata": {
    "collapsed": true
   },
   "outputs": [],
   "source": [
    "regex = '<pre[\\s\\S]*?<\\/pre>'\n",
    "p = re.compile(regex)"
   ]
  },
  {
   "cell_type": "code",
   "execution_count": 35,
   "metadata": {
    "collapsed": false
   },
   "outputs": [],
   "source": [
    "samples = data_lines[0:26]"
   ]
  },
  {
   "cell_type": "code",
   "execution_count": 36,
   "metadata": {
    "collapsed": false
   },
   "outputs": [
    {
     "data": {
      "text/plain": [
       "['\\ufeff  <pre lang=\"XML\">\\n',\n",
       " '&lt;?xml version=\"1.0\"?&gt;\\n',\n",
       " '&lt;DevelopmentStorage xmlns:xsd=\"http://www.w3.org/2001/XMLSchema\" xmlns:xsi=\"http://www.w3.org/2001/XMLSchema-instance\" version=\"2009-03-18\"&gt;\\n',\n",
       " '  &lt;SQLInstance&gt;(localdb)\\\\v11.0&lt;/SQLInstance&gt;\\n',\n",
       " '  &lt;PageBlobRoot&gt;C:\\\\Users\\\\Carl\\\\AppData\\\\Local\\\\DevelopmentStorage\\\\PageBlobRoot&lt;/PageBlobRoot&gt;\\n',\n",
       " '  &lt;BlockBlobRoot&gt;C:\\\\Users\\\\Carl\\\\AppData\\\\Local\\\\DevelopmentStorage\\\\BlockBlobRoot&lt;/BlockBlobRoot&gt;\\n',\n",
       " '  &lt;LogPath&gt;C:\\\\Users\\\\Carl\\\\AppData\\\\Local\\\\DevelopmentStorage\\\\Logs&lt;/LogPath&gt;\\n',\n",
       " '  &lt;LoggingEnabled&gt;false&lt;/LoggingEnabled&gt;\\n',\n",
       " '&lt;/DevelopmentStorage&gt;</pre>\\n',\n",
       " '\\n',\n",
       " '\\n',\n",
       " '\\n',\n",
       " '<pre lang=\"Swift\">\\n',\n",
       " '@objc func handleTap(sender: UITapGestureRecognizer) {\\n',\n",
       " '    if let tappedSceneView = sender.view as? ARSCNView {\\n',\n",
       " '        let tapLocationInView = sender.location(in: tappedSceneView)\\n',\n",
       " '        let planeHitTest = tappedSceneView.hitTest(tapLocationInView,\\n',\n",
       " '            types: .existingPlaneUsingExtent)\\n',\n",
       " '        if !planeHitTest.isEmpty {\\n',\n",
       " '            addFurniture(hitTest: planeHitTest)\\n',\n",
       " '        }\\n',\n",
       " '    }\\n',\n",
       " '}</pre>\\n',\n",
       " '\\n',\n",
       " '\\n',\n",
       " '\\n']"
      ]
     },
     "execution_count": 36,
     "metadata": {},
     "output_type": "execute_result"
    }
   ],
   "source": [
    "samples"
   ]
  },
  {
   "cell_type": "code",
   "execution_count": 37,
   "metadata": {
    "collapsed": false
   },
   "outputs": [],
   "source": [
    "all_samples = ''.join(samples)"
   ]
  },
  {
   "cell_type": "code",
   "execution_count": 38,
   "metadata": {
    "collapsed": false
   },
   "outputs": [
    {
     "name": "stdout",
     "output_type": "stream",
     "text": [
      "﻿  <pre lang=\"XML\">\n",
      "&lt;?xml version=\"1.0\"?&gt;\n",
      "&lt;DevelopmentStorage xmlns:xsd=\"http://www.w3.org/2001/XMLSchema\" xmlns:xsi=\"http://www.w3.org/2001/XMLSchema-instance\" version=\"2009-03-18\"&gt;\n",
      "  &lt;SQLInstance&gt;(localdb)\\v11.0&lt;/SQLInstance&gt;\n",
      "  &lt;PageBlobRoot&gt;C:\\Users\\Carl\\AppData\\Local\\DevelopmentStorage\\PageBlobRoot&lt;/PageBlobRoot&gt;\n",
      "  &lt;BlockBlobRoot&gt;C:\\Users\\Carl\\AppData\\Local\\DevelopmentStorage\\BlockBlobRoot&lt;/BlockBlobRoot&gt;\n",
      "  &lt;LogPath&gt;C:\\Users\\Carl\\AppData\\Local\\DevelopmentStorage\\Logs&lt;/LogPath&gt;\n",
      "  &lt;LoggingEnabled&gt;false&lt;/LoggingEnabled&gt;\n",
      "&lt;/DevelopmentStorage&gt;</pre>\n",
      "\n",
      "\n",
      "\n",
      "<pre lang=\"Swift\">\n",
      "@objc func handleTap(sender: UITapGestureRecognizer) {\n",
      "    if let tappedSceneView = sender.view as? ARSCNView {\n",
      "        let tapLocationInView = sender.location(in: tappedSceneView)\n",
      "        let planeHitTest = tappedSceneView.hitTest(tapLocationInView,\n",
      "            types: .existingPlaneUsingExtent)\n",
      "        if !planeHitTest.isEmpty {\n",
      "            addFurniture(hitTest: planeHitTest)\n",
      "        }\n",
      "    }\n",
      "}</pre>\n",
      "\n",
      "\n",
      "\n",
      "\n"
     ]
    }
   ],
   "source": [
    "print(all_samples)"
   ]
  },
  {
   "cell_type": "code",
   "execution_count": 39,
   "metadata": {
    "collapsed": true
   },
   "outputs": [],
   "source": [
    "test = '<pre>test</pre>more<pre>test1</pre'"
   ]
  },
  {
   "cell_type": "code",
   "execution_count": 40,
   "metadata": {
    "collapsed": false
   },
   "outputs": [],
   "source": [
    "matches = p.findall(all_samples)"
   ]
  },
  {
   "cell_type": "code",
   "execution_count": 41,
   "metadata": {
    "collapsed": false
   },
   "outputs": [
    {
     "name": "stdout",
     "output_type": "stream",
     "text": [
      "['<pre lang=\"XML\">\\n&lt;?xml version=\"1.0\"?&gt;\\n&lt;DevelopmentStorage xmlns:xsd=\"http://www.w3.org/2001/XMLSchema\" xmlns:xsi=\"http://www.w3.org/2001/XMLSchema-instance\" version=\"2009-03-18\"&gt;\\n  &lt;SQLInstance&gt;(localdb)\\\\v11.0&lt;/SQLInstance&gt;\\n  &lt;PageBlobRoot&gt;C:\\\\Users\\\\Carl\\\\AppData\\\\Local\\\\DevelopmentStorage\\\\PageBlobRoot&lt;/PageBlobRoot&gt;\\n  &lt;BlockBlobRoot&gt;C:\\\\Users\\\\Carl\\\\AppData\\\\Local\\\\DevelopmentStorage\\\\BlockBlobRoot&lt;/BlockBlobRoot&gt;\\n  &lt;LogPath&gt;C:\\\\Users\\\\Carl\\\\AppData\\\\Local\\\\DevelopmentStorage\\\\Logs&lt;/LogPath&gt;\\n  &lt;LoggingEnabled&gt;false&lt;/LoggingEnabled&gt;\\n&lt;/DevelopmentStorage&gt;</pre>', '<pre lang=\"Swift\">\\n@objc func handleTap(sender: UITapGestureRecognizer) {\\n    if let tappedSceneView = sender.view as? ARSCNView {\\n        let tapLocationInView = sender.location(in: tappedSceneView)\\n        let planeHitTest = tappedSceneView.hitTest(tapLocationInView,\\n            types: .existingPlaneUsingExtent)\\n        if !planeHitTest.isEmpty {\\n            addFurniture(hitTest: planeHitTest)\\n        }\\n    }\\n}</pre>']\n"
     ]
    }
   ],
   "source": [
    "print(matches)"
   ]
  },
  {
   "cell_type": "code",
   "execution_count": 29,
   "metadata": {
    "collapsed": false
   },
   "outputs": [
    {
     "ename": "TypeError",
     "evalue": "'_sre.SRE_Match' object is not iterable",
     "output_type": "error",
     "traceback": [
      "\u001b[0;31m---------------------------------------------------------------------------\u001b[0m",
      "\u001b[0;31mTypeError\u001b[0m                                 Traceback (most recent call last)",
      "\u001b[0;32m<ipython-input-29-d6b50755e4b0>\u001b[0m in \u001b[0;36m<module>\u001b[0;34m()\u001b[0m\n\u001b[0;32m----> 1\u001b[0;31m \u001b[0;32mfor\u001b[0m \u001b[0mm\u001b[0m \u001b[0;32min\u001b[0m \u001b[0mmatches\u001b[0m\u001b[0;34m:\u001b[0m\u001b[0;34m\u001b[0m\u001b[0m\n\u001b[0m\u001b[1;32m      2\u001b[0m     \u001b[0mprint\u001b[0m\u001b[0;34m(\u001b[0m\u001b[0mm\u001b[0m\u001b[0;34m)\u001b[0m\u001b[0;34m\u001b[0m\u001b[0m\n",
      "\u001b[0;31mTypeError\u001b[0m: '_sre.SRE_Match' object is not iterable"
     ]
    }
   ],
   "source": [
    "for m in matches:\n",
    "    print(m)"
   ]
  },
  {
   "cell_type": "code",
   "execution_count": 42,
   "metadata": {
    "collapsed": true
   },
   "outputs": [],
   "source": [
    "all_found = re.findall(r'<pre[\\s\\S]*?<\\/pre>', all_samples, re.MULTILINE)"
   ]
  },
  {
   "cell_type": "code",
   "execution_count": 43,
   "metadata": {
    "collapsed": false
   },
   "outputs": [
    {
     "data": {
      "text/plain": [
       "['<pre lang=\"XML\">\\n&lt;?xml version=\"1.0\"?&gt;\\n&lt;DevelopmentStorage xmlns:xsd=\"http://www.w3.org/2001/XMLSchema\" xmlns:xsi=\"http://www.w3.org/2001/XMLSchema-instance\" version=\"2009-03-18\"&gt;\\n  &lt;SQLInstance&gt;(localdb)\\\\v11.0&lt;/SQLInstance&gt;\\n  &lt;PageBlobRoot&gt;C:\\\\Users\\\\Carl\\\\AppData\\\\Local\\\\DevelopmentStorage\\\\PageBlobRoot&lt;/PageBlobRoot&gt;\\n  &lt;BlockBlobRoot&gt;C:\\\\Users\\\\Carl\\\\AppData\\\\Local\\\\DevelopmentStorage\\\\BlockBlobRoot&lt;/BlockBlobRoot&gt;\\n  &lt;LogPath&gt;C:\\\\Users\\\\Carl\\\\AppData\\\\Local\\\\DevelopmentStorage\\\\Logs&lt;/LogPath&gt;\\n  &lt;LoggingEnabled&gt;false&lt;/LoggingEnabled&gt;\\n&lt;/DevelopmentStorage&gt;</pre>',\n",
       " '<pre lang=\"Swift\">\\n@objc func handleTap(sender: UITapGestureRecognizer) {\\n    if let tappedSceneView = sender.view as? ARSCNView {\\n        let tapLocationInView = sender.location(in: tappedSceneView)\\n        let planeHitTest = tappedSceneView.hitTest(tapLocationInView,\\n            types: .existingPlaneUsingExtent)\\n        if !planeHitTest.isEmpty {\\n            addFurniture(hitTest: planeHitTest)\\n        }\\n    }\\n}</pre>']"
      ]
     },
     "execution_count": 43,
     "metadata": {},
     "output_type": "execute_result"
    }
   ],
   "source": [
    "all_found"
   ]
  },
  {
   "cell_type": "code",
   "execution_count": 45,
   "metadata": {
    "collapsed": false
   },
   "outputs": [
    {
     "name": "stdout",
     "output_type": "stream",
     "text": [
      "<pre lang=\"XML\">\n",
      "&lt;?xml version=\"1.0\"?&gt;\n",
      "&lt;DevelopmentStorage xmlns:xsd=\"http://www.w3.org/2001/XMLSchema\" xmlns:xsi=\"http://www.w3.org/2001/XMLSchema-instance\" version=\"2009-03-18\"&gt;\n",
      "  &lt;SQLInstance&gt;(localdb)\\v11.0&lt;/SQLInstance&gt;\n",
      "  &lt;PageBlobRoot&gt;C:\\Users\\Carl\\AppData\\Local\\DevelopmentStorage\\PageBlobRoot&lt;/PageBlobRoot&gt;\n",
      "  &lt;BlockBlobRoot&gt;C:\\Users\\Carl\\AppData\\Local\\DevelopmentStorage\\BlockBlobRoot&lt;/BlockBlobRoot&gt;\n",
      "  &lt;LogPath&gt;C:\\Users\\Carl\\AppData\\Local\\DevelopmentStorage\\Logs&lt;/LogPath&gt;\n",
      "  &lt;LoggingEnabled&gt;false&lt;/LoggingEnabled&gt;\n",
      "&lt;/DevelopmentStorage&gt;</pre>\n",
      "----------------\n",
      "<pre lang=\"Swift\">\n",
      "@objc func handleTap(sender: UITapGestureRecognizer) {\n",
      "    if let tappedSceneView = sender.view as? ARSCNView {\n",
      "        let tapLocationInView = sender.location(in: tappedSceneView)\n",
      "        let planeHitTest = tappedSceneView.hitTest(tapLocationInView,\n",
      "            types: .existingPlaneUsingExtent)\n",
      "        if !planeHitTest.isEmpty {\n",
      "            addFurniture(hitTest: planeHitTest)\n",
      "        }\n",
      "    }\n",
      "}</pre>\n",
      "----------------\n"
     ]
    }
   ],
   "source": [
    "for m in all_found: \n",
    "    print(m)\n",
    "    print('----------------')"
   ]
  },
  {
   "cell_type": "code",
   "execution_count": 46,
   "metadata": {
    "collapsed": true
   },
   "outputs": [],
   "source": [
    "x = all_found[0]\n"
   ]
  },
  {
   "cell_type": "code",
   "execution_count": 53,
   "metadata": {
    "collapsed": true
   },
   "outputs": [],
   "source": [
    "x = x.replace('&lt;', '<').replace('&gt;', '>').replace('</pre>', '')"
   ]
  },
  {
   "cell_type": "code",
   "execution_count": 54,
   "metadata": {
    "collapsed": false
   },
   "outputs": [
    {
     "name": "stdout",
     "output_type": "stream",
     "text": [
      "<pre lang=\"XML\">\n",
      "<?xml version=\"1.0\"?>\n",
      "<DevelopmentStorage xmlns:xsd=\"http://www.w3.org/2001/XMLSchema\" xmlns:xsi=\"http://www.w3.org/2001/XMLSchema-instance\" version=\"2009-03-18\">\n",
      "  <SQLInstance>(localdb)\\v11.0</SQLInstance>\n",
      "  <PageBlobRoot>C:\\Users\\Carl\\AppData\\Local\\DevelopmentStorage\\PageBlobRoot</PageBlobRoot>\n",
      "  <BlockBlobRoot>C:\\Users\\Carl\\AppData\\Local\\DevelopmentStorage\\BlockBlobRoot</BlockBlobRoot>\n",
      "  <LogPath>C:\\Users\\Carl\\AppData\\Local\\DevelopmentStorage\\Logs</LogPath>\n",
      "  <LoggingEnabled>false</LoggingEnabled>\n",
      "</DevelopmentStorage>\n"
     ]
    }
   ],
   "source": [
    "print(x)"
   ]
  },
  {
   "cell_type": "code",
   "execution_count": 55,
   "metadata": {
    "collapsed": false
   },
   "outputs": [],
   "source": [
    "splitted = x.split('\\n')"
   ]
  },
  {
   "cell_type": "code",
   "execution_count": 58,
   "metadata": {
    "collapsed": true
   },
   "outputs": [],
   "source": [
    "indicator = splitted[0]\n",
    "x1 = splitted[1:]"
   ]
  },
  {
   "cell_type": "code",
   "execution_count": 59,
   "metadata": {
    "collapsed": false
   },
   "outputs": [
    {
     "data": {
      "text/plain": [
       "['<?xml version=\"1.0\"?>',\n",
       " '<DevelopmentStorage xmlns:xsd=\"http://www.w3.org/2001/XMLSchema\" xmlns:xsi=\"http://www.w3.org/2001/XMLSchema-instance\" version=\"2009-03-18\">',\n",
       " '  <SQLInstance>(localdb)\\\\v11.0</SQLInstance>',\n",
       " '  <PageBlobRoot>C:\\\\Users\\\\Carl\\\\AppData\\\\Local\\\\DevelopmentStorage\\\\PageBlobRoot</PageBlobRoot>',\n",
       " '  <BlockBlobRoot>C:\\\\Users\\\\Carl\\\\AppData\\\\Local\\\\DevelopmentStorage\\\\BlockBlobRoot</BlockBlobRoot>',\n",
       " '  <LogPath>C:\\\\Users\\\\Carl\\\\AppData\\\\Local\\\\DevelopmentStorage\\\\Logs</LogPath>',\n",
       " '  <LoggingEnabled>false</LoggingEnabled>',\n",
       " '</DevelopmentStorage>']"
      ]
     },
     "execution_count": 59,
     "metadata": {},
     "output_type": "execute_result"
    }
   ],
   "source": [
    "x1"
   ]
  },
  {
   "cell_type": "code",
   "execution_count": 60,
   "metadata": {
    "collapsed": true
   },
   "outputs": [],
   "source": [
    "res = ''.join(x1)"
   ]
  },
  {
   "cell_type": "code",
   "execution_count": 61,
   "metadata": {
    "collapsed": false
   },
   "outputs": [
    {
     "data": {
      "text/plain": [
       "'<?xml version=\"1.0\"?><DevelopmentStorage xmlns:xsd=\"http://www.w3.org/2001/XMLSchema\" xmlns:xsi=\"http://www.w3.org/2001/XMLSchema-instance\" version=\"2009-03-18\">  <SQLInstance>(localdb)\\\\v11.0</SQLInstance>  <PageBlobRoot>C:\\\\Users\\\\Carl\\\\AppData\\\\Local\\\\DevelopmentStorage\\\\PageBlobRoot</PageBlobRoot>  <BlockBlobRoot>C:\\\\Users\\\\Carl\\\\AppData\\\\Local\\\\DevelopmentStorage\\\\BlockBlobRoot</BlockBlobRoot>  <LogPath>C:\\\\Users\\\\Carl\\\\AppData\\\\Local\\\\DevelopmentStorage\\\\Logs</LogPath>  <LoggingEnabled>false</LoggingEnabled></DevelopmentStorage>'"
      ]
     },
     "execution_count": 61,
     "metadata": {},
     "output_type": "execute_result"
    }
   ],
   "source": [
    "res"
   ]
  },
  {
   "cell_type": "code",
   "execution_count": 62,
   "metadata": {
    "collapsed": false
   },
   "outputs": [
    {
     "data": {
      "text/plain": [
       "'<pre lang=\"XML\">'"
      ]
     },
     "execution_count": 62,
     "metadata": {},
     "output_type": "execute_result"
    }
   ],
   "source": [
    "indicator"
   ]
  },
  {
   "cell_type": "code",
   "execution_count": 66,
   "metadata": {
    "collapsed": false
   },
   "outputs": [
    {
     "data": {
      "text/plain": [
       "[]"
      ]
     },
     "execution_count": 66,
     "metadata": {},
     "output_type": "execute_result"
    }
   ],
   "source": [
    "#<pre lang=\"XML\">\n",
    "#re.findall(r'<pre lang=\"\\d\">', indicator, re.)"
   ]
  },
  {
   "cell_type": "code",
   "execution_count": 74,
   "metadata": {
    "collapsed": false
   },
   "outputs": [
    {
     "data": {
      "text/plain": [
       "['XML']"
      ]
     },
     "execution_count": 74,
     "metadata": {},
     "output_type": "execute_result"
    }
   ],
   "source": [
    "re.findall(r'<pre lang=\"(.*?)\">', indicator, re.MULTILINE)"
   ]
  },
  {
   "cell_type": "code",
   "execution_count": 75,
   "metadata": {
    "collapsed": true
   },
   "outputs": [],
   "source": [
    "line = re.sub(r'<pre lang=\"(.*?)\">', \"\", indicator)"
   ]
  },
  {
   "cell_type": "code",
   "execution_count": 76,
   "metadata": {
    "collapsed": false
   },
   "outputs": [
    {
     "data": {
      "text/plain": [
       "''"
      ]
     },
     "execution_count": 76,
     "metadata": {},
     "output_type": "execute_result"
    }
   ],
   "source": [
    "line"
   ]
  },
  {
   "cell_type": "code",
   "execution_count": null,
   "metadata": {
    "collapsed": true
   },
   "outputs": [],
   "source": []
  }
 ],
 "metadata": {
  "anaconda-cloud": {},
  "kernelspec": {
   "display_name": "Python [conda env:Python3]",
   "language": "python",
   "name": "conda-env-Python3-py"
  },
  "language_info": {
   "codemirror_mode": {
    "name": "ipython",
    "version": 3
   },
   "file_extension": ".py",
   "mimetype": "text/x-python",
   "name": "python",
   "nbconvert_exporter": "python",
   "pygments_lexer": "ipython3",
   "version": "3.5.3"
  }
 },
 "nbformat": 4,
 "nbformat_minor": 1
}
